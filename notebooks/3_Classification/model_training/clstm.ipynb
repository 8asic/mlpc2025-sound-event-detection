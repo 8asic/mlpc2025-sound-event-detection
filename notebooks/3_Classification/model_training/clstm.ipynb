{
 "cells": [
  {
   "cell_type": "code",
   "execution_count": 1,
   "id": "fc686267-9625-4602-af65-2d7c40428cc3",
   "metadata": {},
   "outputs": [],
   "source": [
    "import numpy as np\n",
    "import matplotlib.pyplot as plt\n",
    "import pandas as pd\n",
    "import os\n",
    "import torch\n",
    "import torch.nn as nn\n",
    "\n",
    "categories = ['Airplane', 'Alarm', 'Beep/Bleep', 'Bell', 'Bicycle', 'Bird Chirp', 'Bus', 'Car', 'Cat Meow',\n",
    "        'Chainsaw', 'Clapping', 'Cough', 'Cow Moo', 'Cowbell', 'Crying', 'Dog Bark', 'Doorbell', 'Drip',\n",
    "        'Drums', 'Fire', 'Footsteps', 'Guitar', 'Hammer', 'Helicopter', 'Hiccup', 'Horn Honk', 'Horse Neigh',\n",
    "        'Insect Buzz', 'Jackhammer', 'Laughter', 'Lawn Mower', 'Motorcycle', 'Piano', 'Pig Oink', 'Power Drill',\n",
    "        'Power Saw', 'Rain', 'Rooster Crow', 'Saxophone', 'Sewing Machine', 'Sheep/Goat Bleat', 'Ship/Boat',\n",
    "        'Shout', 'Singing', 'Siren', 'Sneeze', 'Snoring', 'Speech', 'Stream/River', 'Thunder', 'Train', 'Truck',\n",
    "        'Trumpet', 'Vacuum Cleaner', 'Violin', 'Washing Machine', 'Waves', 'Wind']\n",
    "\n",
    "features_dir = \"audio_features\"\n",
    "labels_dir = \"labels\"\n",
    "\n",
    "animals = ['Bird Chirp', 'Dog Bark', 'Insect Buzz', 'Sheep/Goat Bleat','Cat Meow', 'Cow Moo'\n",
    "               ,'Horse Neigh', 'Pig Oink', 'Rooster Crow' ]"
   ]
  },
  {
   "cell_type": "code",
   "execution_count": 2,
   "id": "71404b38-00ba-49a2-8a4e-a95c9ffa2da3",
   "metadata": {},
   "outputs": [
    {
     "data": {
      "text/plain": [
       "(27552, 9)"
      ]
     },
     "execution_count": 2,
     "metadata": {},
     "output_type": "execute_result"
    }
   ],
   "source": [
    "ann_df = pd.read_csv(\n",
    "    'annotations.csv'\n",
    ")\n",
    "meta_df = pd.read_csv(\n",
    "    'metadata.csv'\n",
    ")\n",
    "ann_df.shape"
   ]
  },
  {
   "cell_type": "code",
   "execution_count": 3,
   "id": "8f11e6d1-1452-4a99-bd44-2fc938101e38",
   "metadata": {},
   "outputs": [],
   "source": [
    "train_filename = meta_df.sample(len(meta_df),random_state=42)['filename'].unique()[:int(len(meta_df)*0.7)]\n",
    "validation_filename = meta_df.sample(len(meta_df),random_state=42)['filename'].unique()[int(len(meta_df)*0.7):int(len(meta_df)*0.9)]\n",
    "test_filename = meta_df.sample(len(meta_df),random_state=42)['filename'].unique()[int(len(meta_df)*0.9):len(meta_df)]\n",
    "\n",
    "\n"
   ]
  },
  {
   "cell_type": "code",
   "execution_count": 4,
   "id": "fc57b422-7add-4e26-ac51-9a123813dc89",
   "metadata": {},
   "outputs": [],
   "source": [
    "def aggregate_labels(file_labels):\n",
    "    __y = []\n",
    "    for frame_labels in file_labels:\n",
    "        if(sum(frame_labels) == 0):\n",
    "            __y.append([0])\n",
    "        elif(np.count_nonzero(frame_labels) == len(frame_labels)):\n",
    "             __y.append([1])\n",
    "        else: #The annotators don't agree on the label\n",
    "            __y.append([np.random.choice(frame_labels)])\n",
    "    return __y"
   ]
  },
  {
   "cell_type": "code",
   "execution_count": 5,
   "id": "ee075e36-ef11-4985-ada6-54b5c6773d8f",
   "metadata": {},
   "outputs": [],
   "source": [
    "features_dir = \"audio_features\"\n",
    "labels_dir = \"labels\"\n",
    "\n",
    "import itertools\n",
    "def read_files(file_names):\n",
    "    X_train = []\n",
    "    Y_train = {c: [] for c in categories}  # Initialize label dictionary\n",
    "    \n",
    "    for f in file_names:\n",
    "        # Load melspectrogram and MFCC features\n",
    "        features_mel = np.load(os.path.join(features_dir, f.split('.')[0] + '.npz'))[\"melspectrogram\"]\n",
    "        \n",
    "        \n",
    "        # Pad or truncate all features to have the same number of timesteps\n",
    "      \n",
    "        \n",
    "        # Concatenate features along feature axis (axis=1)\n",
    "        #features = np.concatenate([features_mel, features_mfcc], axis=1)\n",
    "        X_train.append(features_mel)\n",
    "        \n",
    "        # Load and process labels\n",
    "        y = np.load(os.path.join(labels_dir, f.split('.')[0] + '_labels.npz'))\n",
    "        for c in categories:\n",
    "            _y = aggregate_labels(y[c])\n",
    "            Y_train[c].extend(list(itertools.chain.from_iterable(_y)))  # Match length\n",
    "    \n",
    "    X_train = np.concatenate(X_train)\n",
    "    return X_train, Y_train"
   ]
  },
  {
   "cell_type": "code",
   "execution_count": 6,
   "id": "54c1c631-32da-416f-b615-55964230d722",
   "metadata": {},
   "outputs": [],
   "source": [
    "from sklearn.preprocessing import StandardScaler\n",
    "def preprocessing(array):\n",
    "    s=StandardScaler()\n",
    "    scaled_array = s.fit_transform(array)\n",
    "    scalar =s.fit(array)\n",
    "    return scaled_array,scalar.mean_,scalar.scale_"
   ]
  },
  {
   "cell_type": "code",
   "execution_count": 7,
   "id": "b21a081e-db45-47c6-b52c-41483804a995",
   "metadata": {},
   "outputs": [],
   "source": [
    "train_x,train_y = read_files(train_filename)\n",
    "val_x, val_y = read_files(validation_filename)\n",
    "test_x, test_y = read_files(test_filename)"
   ]
  },
  {
   "cell_type": "code",
   "execution_count": 8,
   "id": "8fb0ce06-3400-4f09-938d-c7a127677dba",
   "metadata": {},
   "outputs": [],
   "source": [
    "scaled_train_x,mu,std =preprocessing(train_x)\n",
    "scaled_validation_x = (val_x - mu)/std\n",
    "scaled_test_x = (test_x - mu)/std"
   ]
  },
  {
   "cell_type": "code",
   "execution_count": 45,
   "id": "e34a089a-ff02-4c84-85c2-6a217cf3a5a3",
   "metadata": {},
   "outputs": [
    {
     "data": {
      "text/plain": [
       "(155057, 64)"
      ]
     },
     "execution_count": 45,
     "metadata": {},
     "output_type": "execute_result"
    }
   ],
   "source": [
    "test_x.shape"
   ]
  },
  {
   "cell_type": "code",
   "execution_count": 10,
   "id": "b233814b-7e49-465b-98f0-d1f79f479746",
   "metadata": {},
   "outputs": [
    {
     "data": {
      "text/plain": [
       "(1078243, 58)"
      ]
     },
     "execution_count": 10,
     "metadata": {},
     "output_type": "execute_result"
    }
   ],
   "source": [
    "train_y = np.array([train_y[cls] for cls in categories]).T\n",
    "val_y = np.array([val_y[cls] for cls in categories]).T\n",
    "test_y = np.array([test_y[cls] for cls in categories]).T\n",
    "train_y.shape"
   ]
  },
  {
   "cell_type": "code",
   "execution_count": 46,
   "id": "8afabef4-84d7-4788-bc8b-62fa279e56e3",
   "metadata": {},
   "outputs": [],
   "source": [
    "device = 'cuda'\n",
    "def train_model(model):\n",
    "    import torch\n",
    "    import torch.nn as nn\n",
    "    from torch.utils.data import DataLoader, TensorDataset\n",
    "    from torch.nn.functional import sigmoid\n",
    "\n",
    "    device = \"cuda\"\n",
    "    model.to(device)\n",
    "    criterion = nn.BCEWithLogitsLoss(pos_weight=torch.tensor([5.0] * 58, device=device))\n",
    "    optimizer = torch.optim.Adam(model.parameters(), lr=1e-3)\n",
    "\n",
    "    training_loss = []\n",
    "    validation_loss = []\n",
    "\n",
    "    # Datasets\n",
    "    batch_size = 32\n",
    "    scaled_train_x_tensor = torch.tensor(scaled_train_x, dtype=torch.float32)\n",
    "    train_y_tensor = torch.tensor(train_y, dtype=torch.float32)\n",
    "    scaled_validation_x_tensor = torch.tensor(scaled_validation_x, dtype=torch.float32)\n",
    "    val_y_tensor = torch.tensor(val_y, dtype=torch.float32)\n",
    "\n",
    "    train_dataset = TensorDataset(scaled_train_x_tensor, train_y_tensor)\n",
    "    val_dataset = TensorDataset(scaled_validation_x_tensor, val_y_tensor)\n",
    "\n",
    "    train_loader = DataLoader(train_dataset, batch_size=batch_size, shuffle=True)\n",
    "    val_loader = DataLoader(val_dataset, batch_size=batch_size)\n",
    "\n",
    "    num_epochs = 11\n",
    "\n",
    "    for epoch in range(num_epochs):\n",
    "        model.train()\n",
    "        train_loss = 0.0\n",
    "        train_correct = 0\n",
    "        train_total = 0\n",
    "\n",
    "        for x_batch, y_batch in train_loader:\n",
    "            x_batch = x_batch.to(device)\n",
    "            y_batch = y_batch.to(device)\n",
    "\n",
    "            optimizer.zero_grad()\n",
    "            output = model(x_batch)\n",
    "            loss = criterion(output, y_batch)\n",
    "            loss.backward()\n",
    "            optimizer.step()\n",
    "\n",
    "            train_loss += loss.item()\n",
    "\n",
    "            preds = (sigmoid(output) > 0.5).int()\n",
    "            targets = y_batch.int()\n",
    "            train_correct += (preds == targets).sum().item()\n",
    "            train_total += targets.numel()\n",
    "\n",
    "        train_accuracy = train_correct / train_total\n",
    "        avg_train_loss = train_loss / len(train_loader)\n",
    "        training_loss.append(avg_train_loss)\n",
    "\n",
    "        # ----------- Validation and Metrics -----------\n",
    "        model.eval()\n",
    "        val_loss = 0.0\n",
    "        all_preds = []\n",
    "        all_targets = []\n",
    "\n",
    "        with torch.no_grad():\n",
    "            for x_val, y_val in val_loader:\n",
    "                x_val = x_val.to(device)\n",
    "                y_val = y_val.to(device)\n",
    "\n",
    "                val_output = model(x_val)\n",
    "                val_loss += criterion(val_output, y_val).item()\n",
    "\n",
    "                probs = sigmoid(val_output)\n",
    "                preds = (probs > 0.5).int()\n",
    "                targets = y_val.int()\n",
    "\n",
    "                all_preds.append(preds)\n",
    "                all_targets.append(targets)\n",
    "\n",
    "        avg_val_loss = val_loss / len(val_loader)\n",
    "        validation_loss.append(avg_val_loss)\n",
    "\n",
    "        # Stack predictions\n",
    "        all_preds = torch.cat(all_preds, dim=0)\n",
    "        all_targets = torch.cat(all_targets, dim=0)\n",
    "\n",
    "        # Compute metrics\n",
    "        TP = (all_preds & all_targets).sum(dim=0).float()\n",
    "        FP = ((all_preds == 1) & (all_targets == 0)).sum(dim=0).float()\n",
    "        FN = ((all_preds == 0) & (all_targets == 1)).sum(dim=0).float()\n",
    "        TN = ((all_preds == 0) & (all_targets == 0)).sum(dim=0).float()\n",
    "\n",
    "        precision = TP / (TP + FP + 1e-8)\n",
    "        recall = TP / (TP + FN + 1e-8)\n",
    "        f1 = (2 * precision * recall) / (precision + recall + 1e-8)\n",
    "        tnr = TN / (TN + FP + 1e-8)\n",
    "        balanced_acc = (recall + tnr) / 2\n",
    "\n",
    "        avg_precision = precision.mean().item()\n",
    "        avg_recall = recall.mean().item()\n",
    "        avg_f1 = f1.mean().item()\n",
    "        avg_bal_acc = balanced_acc.mean().item()\n",
    "        val_accuracy = (all_preds == all_targets).float().mean().item()\n",
    "\n",
    "        print(f\"\\nEpoch {epoch+1}/{num_epochs}\")\n",
    "        print(f\"Train Loss:                  {avg_train_loss:.4f}\")\n",
    "        print(f\"Train Accuracy:              {train_accuracy:.4f}\")\n",
    "        print(f\"Val Loss:                    {avg_val_loss:.4f}\")\n",
    "        print(f\"Validation Accuracy:         {val_accuracy:.4f}\")\n",
    "        print(f\"Precision:                   {avg_precision:.4f}\")\n",
    "        print(f\"Recall:                      {avg_recall:.4f}\")\n",
    "        print(f\"F1 Score:                    {avg_f1:.4f}\")\n",
    "        print(f\"Average Balanced Accuracy:   {avg_bal_acc:.4f}\")\n",
    "\n",
    "    # Save model\n",
    "    torch.save(model.state_dict(), 'CLSTM_WEIGHTS.pth')\n",
    "    torch.save(model, 'CLSTM.pth')\n",
    "\n",
    "    return training_loss, validation_loss, {\n",
    "        \"precision\": avg_precision,\n",
    "        \"recall\": avg_recall,\n",
    "        \"f1\": avg_f1,\n",
    "        \"balanced_accuracy\": avg_bal_acc,\n",
    "        \"val_accuracy\": val_accuracy\n",
    "    }"
   ]
  },
  {
   "cell_type": "code",
   "execution_count": 47,
   "id": "d910fa5b-eb84-4f45-95f6-50a8837e03a9",
   "metadata": {},
   "outputs": [],
   "source": [
    "def test_model(model):\n",
    "    import torch\n",
    "    import torch.nn as nn\n",
    "    from torch.utils.data import DataLoader, TensorDataset\n",
    "    from torch.nn.functional import sigmoid\n",
    "\n",
    "    device = \"cuda\" if torch.cuda.is_available() else \"cpu\"\n",
    "    model.to(device)\n",
    "    model.eval()  # Set model to evaluation mode\n",
    "    \n",
    "    criterion = nn.BCEWithLogitsLoss(pos_weight=torch.tensor([10.0] * 58,device=device))\n",
    "\n",
    "    # Datasets\n",
    "    batch_size = 32\n",
    "    scaled_test_x_tensor = torch.tensor(scaled_test_x, dtype=torch.float32).to(device)\n",
    "    test_y_tensor = torch.tensor(test_y, dtype=torch.float32).to(device)\n",
    "\n",
    "    test_dataset = TensorDataset(scaled_test_x_tensor, test_y_tensor)\n",
    "    test_loader = DataLoader(test_dataset, batch_size=batch_size)\n",
    "\n",
    "    test_loss = 0.0\n",
    "    all_preds = []\n",
    "    all_targets = []\n",
    "\n",
    "    with torch.no_grad():\n",
    "        for x_test, y_test in test_loader:\n",
    "            x_test, y_test = x_test.to(device), y_test.to(device)\n",
    "            output = model(x_test)\n",
    "            test_loss += criterion(output, y_test).item()\n",
    "\n",
    "            probs = sigmoid(output)\n",
    "            preds = (probs > 0.5).int()\n",
    "            all_preds.append(preds)\n",
    "            all_targets.append(y_test.int())\n",
    "\n",
    "    # Calculate average test loss\n",
    "    avg_test_loss = test_loss / len(test_loader)\n",
    "\n",
    "    # Stack predictions for metric calculations\n",
    "    all_preds = torch.cat(all_preds, dim=0)\n",
    "    all_targets = torch.cat(all_targets, dim=0)\n",
    "\n",
    "    # Calculate metrics\n",
    "    TP = (all_preds & all_targets).sum(dim=0).float()\n",
    "    FP = ((all_preds == 1) & (all_targets == 0)).sum(dim=0).float()\n",
    "    FN = ((all_preds == 0) & (all_targets == 1)).sum(dim=0).float()\n",
    "    TN = ((all_preds == 0) & (all_targets == 0)).sum(dim=0).float()\n",
    "\n",
    "    precision = TP / (TP + FP + 1e-8)\n",
    "    recall = TP / (TP + FN + 1e-8)\n",
    "    f1 = (2 * precision * recall) / (precision + recall + 1e-8)\n",
    "    tnr = TN / (TN + FP + 1e-8)\n",
    "    balanced_acc = (recall + tnr) / 2\n",
    "\n",
    "    avg_precision = precision.mean().item()\n",
    "    avg_recall = recall.mean().item()\n",
    "    avg_f1 = f1.mean().item()\n",
    "    avg_bal_acc = balanced_acc.mean().item()\n",
    "    test_accuracy = (all_preds == all_targets).float().mean().item()\n",
    "\n",
    "    # Print results\n",
    "    print(\"\\nTest Results\")\n",
    "    print(f\"Test Loss:                 {avg_test_loss:.4f}\")\n",
    "    print(f\"Test Accuracy:             {test_accuracy:.4f}\")\n",
    "    print(f\"Precision:                 {avg_precision:.4f}\")\n",
    "    print(f\"Recall:                    {avg_recall:.4f}\")\n",
    "    print(f\"F1 Score:                  {avg_f1:.4f}\")\n",
    "    print(f\"Average Balanced Accuracy: {avg_bal_acc:.4f}\")\n",
    "\n",
    "    return {\n",
    "        \"test_loss\": avg_test_loss,\n",
    "        \"test_accuracy\": test_accuracy,\n",
    "        \"precision\": avg_precision,\n",
    "        \"recall\": avg_recall,\n",
    "        \"f1\": avg_f1,\n",
    "        \"balanced_accuracy\": avg_bal_acc\n",
    "    }\n"
   ]
  },
  {
   "cell_type": "code",
   "execution_count": 48,
   "id": "ce3f7ac9-452e-42ff-8ecc-68ed9f6e215b",
   "metadata": {},
   "outputs": [],
   "source": [
    "import torch\n",
    "import torch.nn as nn\n",
    "\n",
    "class CLSTM(nn.Module):\n",
    "    def __init__(self, num_classes=58, num_layers=1):\n",
    "        super().__init__()\n",
    "        \n",
    "        self.conv = nn.Sequential(\n",
    "            nn.Conv1d(64, 62, 3, padding='same'),\n",
    "            nn.BatchNorm1d(62),\n",
    "            nn.ReLU(),\n",
    "            nn.Dropout(0.3),\n",
    "            nn.Conv1d(62, 32, 3, padding='same'),\n",
    "            nn.BatchNorm1d(32),\n",
    "            nn.ReLU()\n",
    "        )\n",
    "        self.bilstm = nn.LSTM(\n",
    "            input_size=32,  \n",
    "            hidden_size=32,\n",
    "            num_layers=num_layers,\n",
    "            batch_first=True,\n",
    "            bidirectional=False\n",
    "        )\n",
    "   \n",
    "        self.classifier = nn.Sequential(\n",
    "            nn.Linear(32, num_classes)\n",
    "        )\n",
    "\n",
    "    def forward(self, x):\n",
    "        x = x.unsqueeze(0)  \n",
    "        x = x.permute(0, 2, 1)\n",
    "        x = self.conv(x)          \n",
    "        x = x.permute(0, 2, 1)\n",
    "        x= x.squeeze(0)\n",
    "        \n",
    "        lstm_out, _ = self.bilstm(x)\n",
    "        logits = self.classifier(x)  \n",
    "        \n",
    "        return logits"
   ]
  },
  {
   "cell_type": "markdown",
   "id": "c2a4f1c0-5033-4e04-8603-8225bda31e43",
   "metadata": {},
   "source": [
    "**Report**\n",
    "* a hybrid model where we used 2 1-dimensional conv layer. why?-> cnns have been established to be good at recognizing patterns and feature extraction , then we used a lstm layer to process thesqeunce of extraxted features from the conv layers and lastly we used a linear layer as he classifying layer.\n",
    "* we did not use bidirection lstm here since training the lstm model showed us that bilstsm tend to overfit"
   ]
  },
  {
   "cell_type": "code",
   "execution_count": 49,
   "id": "dfbb3ea3-d9bb-483c-975e-30422f125bc4",
   "metadata": {},
   "outputs": [],
   "source": [
    "model = CLSTM().to('cuda')"
   ]
  },
  {
   "cell_type": "code",
   "execution_count": 50,
   "id": "d20150b1-dc01-4c37-a7ab-9fb8ff07604c",
   "metadata": {},
   "outputs": [
    {
     "name": "stdout",
     "output_type": "stream",
     "text": [
      "\n",
      "Epoch 1/11\n",
      "Train Loss:                  0.2583\n",
      "Train Accuracy:              0.9729\n",
      "Val Loss:                    0.2530\n",
      "Validation Accuracy:         0.9724\n",
      "Precision:                   0.1639\n",
      "Recall:                      0.1110\n",
      "F1 Score:                    0.1104\n",
      "Average Balanced Accuracy:   0.5501\n",
      "\n",
      "Epoch 2/11\n",
      "Train Loss:                  0.2467\n",
      "Train Accuracy:              0.9719\n",
      "Val Loss:                    0.2479\n",
      "Validation Accuracy:         0.9711\n",
      "Precision:                   0.1890\n",
      "Recall:                      0.1228\n",
      "F1 Score:                    0.1248\n",
      "Average Balanced Accuracy:   0.5549\n",
      "\n",
      "Epoch 3/11\n",
      "Train Loss:                  0.2432\n",
      "Train Accuracy:              0.9716\n",
      "Val Loss:                    0.2463\n",
      "Validation Accuracy:         0.9720\n",
      "Precision:                   0.2236\n",
      "Recall:                      0.1264\n",
      "F1 Score:                    0.1328\n",
      "Average Balanced Accuracy:   0.5571\n",
      "\n",
      "Epoch 4/11\n",
      "Train Loss:                  0.2416\n",
      "Train Accuracy:              0.9715\n",
      "Val Loss:                    0.2444\n",
      "Validation Accuracy:         0.9718\n",
      "Precision:                   0.2039\n",
      "Recall:                      0.1304\n",
      "F1 Score:                    0.1351\n",
      "Average Balanced Accuracy:   0.5590\n",
      "\n",
      "Epoch 5/11\n",
      "Train Loss:                  0.2405\n",
      "Train Accuracy:              0.9714\n",
      "Val Loss:                    0.2435\n",
      "Validation Accuracy:         0.9719\n",
      "Precision:                   0.2199\n",
      "Recall:                      0.1416\n",
      "F1 Score:                    0.1483\n",
      "Average Balanced Accuracy:   0.5646\n",
      "\n",
      "Epoch 6/11\n",
      "Train Loss:                  0.2397\n",
      "Train Accuracy:              0.9714\n",
      "Val Loss:                    0.2426\n",
      "Validation Accuracy:         0.9714\n",
      "Precision:                   0.2160\n",
      "Recall:                      0.1449\n",
      "F1 Score:                    0.1483\n",
      "Average Balanced Accuracy:   0.5659\n",
      "\n",
      "Epoch 7/11\n",
      "Train Loss:                  0.2391\n",
      "Train Accuracy:              0.9714\n",
      "Val Loss:                    0.2425\n",
      "Validation Accuracy:         0.9719\n",
      "Precision:                   0.2304\n",
      "Recall:                      0.1387\n",
      "F1 Score:                    0.1444\n",
      "Average Balanced Accuracy:   0.5632\n",
      "\n",
      "Epoch 8/11\n",
      "Train Loss:                  0.2387\n",
      "Train Accuracy:              0.9713\n",
      "Val Loss:                    0.2414\n",
      "Validation Accuracy:         0.9718\n",
      "Precision:                   0.2277\n",
      "Recall:                      0.1453\n",
      "F1 Score:                    0.1481\n",
      "Average Balanced Accuracy:   0.5663\n",
      "\n",
      "Epoch 9/11\n",
      "Train Loss:                  0.2382\n",
      "Train Accuracy:              0.9713\n",
      "Val Loss:                    0.2418\n",
      "Validation Accuracy:         0.9703\n",
      "Precision:                   0.2188\n",
      "Recall:                      0.1579\n",
      "F1 Score:                    0.1567\n",
      "Average Balanced Accuracy:   0.5716\n",
      "\n",
      "Epoch 10/11\n",
      "Train Loss:                  0.2378\n",
      "Train Accuracy:              0.9713\n",
      "Val Loss:                    0.2425\n",
      "Validation Accuracy:         0.9701\n",
      "Precision:                   0.2285\n",
      "Recall:                      0.1494\n",
      "F1 Score:                    0.1490\n",
      "Average Balanced Accuracy:   0.5672\n",
      "\n",
      "Epoch 11/11\n",
      "Train Loss:                  0.2375\n",
      "Train Accuracy:              0.9712\n",
      "Val Loss:                    0.2409\n",
      "Validation Accuracy:         0.9714\n",
      "Precision:                   0.2391\n",
      "Recall:                      0.1505\n",
      "F1 Score:                    0.1563\n",
      "Average Balanced Accuracy:   0.5686\n"
     ]
    }
   ],
   "source": [
    "training_loss,validation_loss,eval_dict =  train_model(model)"
   ]
  },
  {
   "cell_type": "code",
   "execution_count": 52,
   "id": "cd6a93d7-2c73-43fb-9518-19a85023915a",
   "metadata": {},
   "outputs": [
    {
     "data": {
      "text/plain": [
       "<matplotlib.legend.Legend at 0x241eed34430>"
      ]
     },
     "execution_count": 52,
     "metadata": {},
     "output_type": "execute_result"
    },
    {
     "data": {
      "image/png": "[encoded data removed]",
      "text/plain": [
       "<Figure size 1200x600 with 1 Axes>"
      ]
     },
     "metadata": {},
     "output_type": "display_data"
    }
   ],
   "source": [
    "import matplotlib.pyplot as plt\n",
    "import seaborn as sns\n",
    "fig,ax = plt.subplots(1,1,figsize=(12,6))\n",
    "ax.plot(range(11),training_loss,label=\"Training loss\")\n",
    "ax.plot(range(11),validation_loss,label=\"validation loss\")\n",
    "ax.set_title(\"CLSTM Training loss vs Validation loss\")\n",
    "ax.set_xlabel(\"Epoches\")\n",
    "ax.set_ylabel(\"Error\")\n",
    "plt.legend()"
   ]
  },
  {
   "cell_type": "code",
   "execution_count": 53,
   "id": "0f747e4d-2586-4fd4-99e7-93fc27bfc7c6",
   "metadata": {},
   "outputs": [
    {
     "name": "stdout",
     "output_type": "stream",
     "text": [
      "\n",
      "Test Results\n",
      "Test Loss:                 0.4125\n",
      "Test Accuracy:             0.9715\n",
      "Precision:                 0.2288\n",
      "Recall:                    0.1435\n",
      "F1 Score:                  0.1469\n",
      "Average Balanced Accuracy: 0.5653\n"
     ]
    },
    {
     "data": {
      "text/plain": [
       "{'test_loss': 0.41252439770212584,\n",
       " 'test_accuracy': 0.9714919924736023,\n",
       " 'precision': 0.22884000837802887,\n",
       " 'recall': 0.1435440629720688,\n",
       " 'f1': 0.1468793898820877,\n",
       " 'balanced_accuracy': 0.5653191804885864}"
      ]
     },
     "execution_count": 53,
     "metadata": {},
     "output_type": "execute_result"
    }
   ],
   "source": [
    "test_model(model)"
   ]
  },
  {
   "cell_type": "code",
   "execution_count": null,
   "id": "a9c6ab0f-2f5c-42f4-bf1f-398fd3189f37",
   "metadata": {},
   "outputs": [],
   "source": [
    "test_model(BiLSTM)"
   ]
  },
  {
   "cell_type": "code",
   "execution_count": 54,
   "id": "c85e910c-bce8-495c-b2bf-3620088d0b4c",
   "metadata": {},
   "outputs": [],
   "source": [
    "torch.save(model.state_dict(), 'CLSTM_weights.pth')\n",
    "torch.save(model, 'CLSTM_model.pth')"
   ]
  },
  {
   "cell_type": "code",
   "execution_count": null,
   "id": "45fdd2da-414a-4d2a-8f5d-cc38622f0db1",
   "metadata": {},
   "outputs": [],
   "source": []
  }
 ],
 "metadata": {
  "kernelspec": {
   "display_name": "Python 3 (ipykernel)",
   "language": "python",
   "name": "python3"
  },
  "language_info": {
   "codemirror_mode": {
    "name": "ipython",
    "version": 3
   },
   "file_extension": ".py",
   "mimetype": "text/x-python",
   "name": "python",
   "nbconvert_exporter": "python",
   "pygments_lexer": "ipython3",
   "version": "3.8.19"
  }
 },
 "nbformat": 4,
 "nbformat_minor": 5
}
