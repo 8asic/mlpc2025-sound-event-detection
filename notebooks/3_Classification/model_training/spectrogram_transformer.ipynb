{
 "cells": [
  {
   "cell_type": "code",
   "execution_count": 1,
   "id": "350e1503-88c0-4c28-ba34-4fd186ae7975",
   "metadata": {},
   "outputs": [],
   "source": [
    "import numpy as np\n",
    "import matplotlib.pyplot as plt\n",
    "import pandas as pd\n",
    "import os\n",
    "import torch\n",
    "import torch.nn as nn"
   ]
  },
  {
   "cell_type": "code",
   "execution_count": 2,
   "id": "3ecebede-352b-473a-8b89-fc2021bc2438",
   "metadata": {},
   "outputs": [],
   "source": [
    "categories = ['Airplane', 'Alarm', 'Beep/Bleep', 'Bell', 'Bicycle', 'Bird Chirp', 'Bus', 'Car', 'Cat Meow',\n",
    "        'Chainsaw', 'Clapping', 'Cough', 'Cow Moo', 'Cowbell', 'Crying', 'Dog Bark', 'Doorbell', 'Drip',\n",
    "        'Drums', 'Fire', 'Footsteps', 'Guitar', 'Hammer', 'Helicopter', 'Hiccup', 'Horn Honk', 'Horse Neigh',\n",
    "        'Insect Buzz', 'Jackhammer', 'Laughter', 'Lawn Mower', 'Motorcycle', 'Piano', 'Pig Oink', 'Power Drill',\n",
    "        'Power Saw', 'Rain', 'Rooster Crow', 'Saxophone', 'Sewing Machine', 'Sheep/Goat Bleat', 'Ship/Boat',\n",
    "        'Shout', 'Singing', 'Siren', 'Sneeze', 'Snoring', 'Speech', 'Stream/River', 'Thunder', 'Train', 'Truck',\n",
    "        'Trumpet', 'Vacuum Cleaner', 'Violin', 'Washing Machine', 'Waves', 'Wind']\n",
    "\n",
    "features_dir = r\"audio_features\"\n",
    "labels_dir = r\"labels\""
   ]
  },
  {
   "cell_type": "code",
   "execution_count": 3,
   "id": "a7df7183-b6ac-4161-b9dc-02e828a41c36",
   "metadata": {},
   "outputs": [],
   "source": [
    "ann_df = pd.read_csv( 'annotations.csv')\n",
    "meta_df = pd.read_csv('metadata.csv')\n",
    "\n",
    "\n",
    "train_filename = meta_df.sample(len(meta_df),random_state=42)['filename'].unique()[:int(len(meta_df)*0.7)]\n",
    "validation_filename = meta_df.sample(len(meta_df),random_state=42)['filename'].unique()[int(len(meta_df)*0.7):int(len(meta_df)*0.9)]\n",
    "test_filename = meta_df.sample(len(meta_df),random_state=42)['filename'].unique()[int(len(meta_df)*0.9):len(meta_df)]\n",
    "\n",
    "\n",
    "\n"
   ]
  },
  {
   "cell_type": "code",
   "execution_count": 4,
   "id": "d09b0772-e9c5-4552-a48f-d611a394a660",
   "metadata": {},
   "outputs": [],
   "source": [
    "def aggregate_labels(file_labels):\n",
    "    __y = []\n",
    "    for frame_labels in file_labels:\n",
    "        if(sum(frame_labels) == 0):\n",
    "            __y.append([0])\n",
    "        elif(np.count_nonzero(frame_labels) == len(frame_labels)):\n",
    "             __y.append([1])\n",
    "        else: #The annotators don't agree on the label\n",
    "            __y.append([np.random.choice(frame_labels)])\n",
    "    return __y"
   ]
  },
  {
   "cell_type": "code",
   "execution_count": 5,
   "id": "f2f0b94c-ec07-44e7-bb25-db759dce3c71",
   "metadata": {},
   "outputs": [],
   "source": [
    "import itertools\n",
    "def read_files(file_names):\n",
    "    X_train = []\n",
    "    Y_train = {}\n",
    "    for c in categories:\n",
    "        Y_train[c] = []\n",
    "    for f in file_names: #we are not loading the entire dataset due to processing time\n",
    "        features = np.load(os.path.join(features_dir , f.split('.')[0] + '.npz'))[\"melspectrogram\"]\n",
    "        X_train.append(features)\n",
    "        y = np.load(os.path.join(labels_dir , f.split('.')[0] + '_labels.npz'))\n",
    "        for c in categories:\n",
    "            _y = aggregate_labels(y[c])\n",
    "            Y_train[c].extend(list(itertools.chain.from_iterable(_y)))\n",
    "    X_train = np.concatenate(X_train)\n",
    "    return X_train, Y_train\n"
   ]
  },
  {
   "cell_type": "code",
   "execution_count": 6,
   "id": "fcbeec8a-f555-4f25-8366-c4718d085860",
   "metadata": {},
   "outputs": [],
   "source": [
    "train_x,train_y = read_files(train_filename)\n",
    "val_x, val_y = read_files(validation_filename)\n",
    "test_x, test_y = read_files(test_filename)"
   ]
  },
  {
   "cell_type": "code",
   "execution_count": 7,
   "id": "04e6c655-ea47-45a0-9c28-aa320059acf6",
   "metadata": {},
   "outputs": [
    {
     "name": "stdout",
     "output_type": "stream",
     "text": [
      "shape of train set:(1078243, 64), shape of val set:(305277, 64), shape of test set:(155057, 64)\n"
     ]
    }
   ],
   "source": [
    "train_x.shape\n",
    "val_x.shape\n",
    "test_x.shape\n",
    "print(f'shape of train set:{train_x.shape}, shape of val set:{val_x.shape}, shape of test set:{test_x.shape}')\n",
    "#print(f'shape of train_y set:{train_y.shape}, shape of val_y set:{val_y.shape}, shape of test_y set:{test_y.shape}')"
   ]
  },
  {
   "cell_type": "code",
   "execution_count": 8,
   "id": "83db4ede-3c45-4bc0-bc34-d3db1b99a931",
   "metadata": {},
   "outputs": [],
   "source": [
    "from sklearn.preprocessing import StandardScaler\n",
    "\n",
    "def log_scalling(array):\n",
    "    epsilon = 1e-10  \n",
    "    log_array = np.log(array + epsilon)\n",
    "    return log_array\n",
    "    \n",
    "def z_score(array):\n",
    "    s = StandardScaler()\n",
    "    scaled_array = s.fit_transform(array)\n",
    "    return scaled_array,s.mean_,s.scale_"
   ]
  },
  {
   "cell_type": "code",
   "execution_count": 9,
   "id": "e1336578-23fd-4404-b317-3f91ee519cd9",
   "metadata": {},
   "outputs": [],
   "source": [
    "log_train_x,log_validation_x,log_test_x = log_scalling(train_x),log_scalling(val_x),log_scalling(test_x)\n",
    "\n",
    "\n",
    "scaled_train_x,mu,std = z_score(log_train_x)\n",
    "scaled_validation_x = (log_validation_x - mu)/std\n",
    "scaled_test_x = (log_test_x - mu)/std"
   ]
  },
  {
   "cell_type": "code",
   "execution_count": 10,
   "id": "5aa9405e-bde9-4833-9af0-4f11d50532bb",
   "metadata": {},
   "outputs": [
    {
     "data": {
      "text/plain": [
       "(1078243, 58)"
      ]
     },
     "execution_count": 10,
     "metadata": {},
     "output_type": "execute_result"
    }
   ],
   "source": [
    "train_y = np.array([train_y[cls] for cls in categories]).T\n",
    "val_y = np.array([val_y[cls] for cls in categories]).T\n",
    "test_y = np.array([test_y[cls] for cls in categories]).T\n",
    "train_y.shape"
   ]
  },
  {
   "cell_type": "code",
   "execution_count": 12,
   "id": "ff8dfbda-877b-4b41-af13-e58092168a21",
   "metadata": {},
   "outputs": [],
   "source": [
    "class SpectrogramTransformer(nn.Module):\n",
    "    def __init__(self,mel_bin=64,em_dim=128,num_labels=58 , n_head=4 , num_layer=2,dropout=0.3):\n",
    "        super().__init__()\n",
    "        self.input_projection = nn.Linear(mel_bin,em_dim)\n",
    "        encoder_layer = nn.TransformerEncoderLayer(d_model=em_dim,nhead=n_head,dropout=dropout,batch_first=True)\n",
    "        self.transformer = nn.TransformerEncoder(encoder_layer,num_layer)\n",
    "        self.classifier = nn.Linear(em_dim,num_labels)\n",
    "\n",
    "    def forward(self,x):\n",
    "        x = self.input_projection(x)\n",
    "        x = self.transformer(x)\n",
    "        logits = self.classifier(x)\n",
    "        return logits"
   ]
  },
  {
   "cell_type": "code",
   "execution_count": 35,
   "id": "1e842e56-7c91-4ccf-8477-e77076c44a15",
   "metadata": {},
   "outputs": [],
   "source": [
    "def train_model(model):\n",
    "    import torch\n",
    "    import torch.nn as nn\n",
    "    from torch.utils.data import DataLoader, TensorDataset\n",
    "    from torch.nn.functional import sigmoid\n",
    "\n",
    "    device = \"cuda\"\n",
    "\n",
    "    criterion = nn.BCEWithLogitsLoss()\n",
    "    optimizer = torch.optim.Adam(model.parameters(), lr=1e-3)\n",
    "\n",
    "    training_loss = []\n",
    "    validation_loss = []\n",
    "\n",
    "    # Datasets\n",
    "    batch_size = 32\n",
    "    scaled_train_x_tensor = torch.tensor(scaled_train_x, dtype=torch.float32)\n",
    "    train_y_tensor = torch.tensor(train_y, dtype=torch.float32)\n",
    "    scaled_validation_x_tensor = torch.tensor(scaled_validation_x, dtype=torch.float32)\n",
    "    val_y_tensor = torch.tensor(val_y, dtype=torch.float32)\n",
    "\n",
    "    train_dataset = TensorDataset(scaled_train_x_tensor, train_y_tensor)\n",
    "    val_dataset = TensorDataset(scaled_validation_x_tensor, val_y_tensor)\n",
    "\n",
    "    train_loader = DataLoader(train_dataset, batch_size=batch_size, shuffle=True)\n",
    "    val_loader = DataLoader(val_dataset, batch_size=batch_size)\n",
    "\n",
    "    num_epochs = 3\n",
    "\n",
    "    for epoch in range(num_epochs):\n",
    "        model.train()\n",
    "        train_loss = 0.0\n",
    "        train_correct = 0\n",
    "        train_total = 0\n",
    "\n",
    "        for x_batch, y_batch in train_loader:\n",
    "            x_batch = x_batch.to(device)\n",
    "            y_batch = y_batch.to(device)\n",
    "\n",
    "            optimizer.zero_grad()\n",
    "            output = model(x_batch)\n",
    "            loss = criterion(output, y_batch)\n",
    "            loss.backward()\n",
    "            optimizer.step()\n",
    "\n",
    "            train_loss += loss.item()\n",
    "\n",
    "            preds = (sigmoid(output) > 0.5).int()\n",
    "            targets = y_batch.int()\n",
    "            train_correct += (preds == targets).sum().item()\n",
    "            train_total += targets.numel()\n",
    "\n",
    "        train_accuracy = train_correct / train_total\n",
    "        avg_train_loss = train_loss / len(train_loader)\n",
    "        training_loss.append(avg_train_loss)\n",
    "\n",
    "        # ----------- Validation and Metrics -----------\n",
    "        model.eval()\n",
    "        val_loss = 0.0\n",
    "        all_preds = []\n",
    "        all_targets = []\n",
    "\n",
    "        with torch.no_grad():\n",
    "            for x_val, y_val in val_loader:\n",
    "                x_val = x_val.to(device)\n",
    "                y_val = y_val.to(device)\n",
    "\n",
    "                val_output = model(x_val)\n",
    "                val_loss += criterion(val_output, y_val).item()\n",
    "\n",
    "                probs = sigmoid(val_output)\n",
    "                preds = (probs > 0.5).int()\n",
    "                targets = y_val.int()\n",
    "\n",
    "                all_preds.append(preds)\n",
    "                all_targets.append(targets)\n",
    "\n",
    "        avg_val_loss = val_loss / len(val_loader)\n",
    "        validation_loss.append(avg_val_loss)\n",
    "\n",
    "        # Stack predictions\n",
    "        all_preds = torch.cat(all_preds, dim=0)\n",
    "        all_targets = torch.cat(all_targets, dim=0)\n",
    "\n",
    "        # Compute metrics\n",
    "        TP = (all_preds & all_targets).sum(dim=0).float()\n",
    "        FP = ((all_preds == 1) & (all_targets == 0)).sum(dim=0).float()\n",
    "        FN = ((all_preds == 0) & (all_targets == 1)).sum(dim=0).float()\n",
    "        TN = ((all_preds == 0) & (all_targets == 0)).sum(dim=0).float()\n",
    "\n",
    "        precision = TP / (TP + FP + 1e-8)\n",
    "        recall = TP / (TP + FN + 1e-8)\n",
    "        f1 = (2 * precision * recall) / (precision + recall + 1e-8)\n",
    "        tnr = TN / (TN + FP + 1e-8)\n",
    "        balanced_acc = (recall + tnr) / 2\n",
    "\n",
    "        avg_precision = precision.mean().item()\n",
    "        avg_recall = recall.mean().item()\n",
    "        avg_f1 = f1.mean().item()\n",
    "        avg_bal_acc = balanced_acc.mean().item()\n",
    "        val_accuracy = (all_preds == all_targets).float().mean().item()\n",
    "\n",
    "        print(f\"\\n Epoch {epoch+1}/{num_epochs}\")\n",
    "        print(f\"Train Loss:                  {avg_train_loss:.4f}\")\n",
    "        print(f\"Train Accuracy:              {train_accuracy:.4f}\")\n",
    "        print(f\"Val Loss:                    {avg_val_loss:.4f}\")\n",
    "        print(f\"Validation Accuracy:         {val_accuracy:.4f}\")\n",
    "        print(f\"Precision:                   {avg_precision:.4f}\")\n",
    "        print(f\"Recall:                      {avg_recall:.4f}\")\n",
    "        print(f\"F1 Score:                    {avg_f1:.4f}\")\n",
    "        print(f\"Average Balanced Accuracy:   {avg_bal_acc:.4f}\")\n",
    "\n",
    "    # Save model\n",
    "    torch.save(model.state_dict(), 'spectrogram_transformer_weights.pth')\n",
    "    torch.save(model, 'spectrogram_transformer_full_model.pth')\n",
    "\n",
    "    return training_loss, validation_loss, {\n",
    "        \"precision\": avg_precision,\n",
    "        \"recall\": avg_recall,\n",
    "        \"f1\": avg_f1,\n",
    "        \"balanced_accuracy\": avg_bal_acc,\n",
    "        \"val_accuracy\": val_accuracy\n",
    "    }\n"
   ]
  },
  {
   "cell_type": "code",
   "execution_count": 36,
   "id": "fab5c45f-8b5b-4ae1-a708-303a5d903f41",
   "metadata": {},
   "outputs": [
    {
     "name": "stdout",
     "output_type": "stream",
     "text": [
      "\n",
      " Epoch 1/3\n",
      "Train Loss:                  0.0746\n",
      "Train Accuracy:              0.9798\n",
      "Val Loss:                    0.0778\n",
      "Validation Accuracy:         0.9795\n",
      "Precision:                   0.3591\n",
      "Recall:                      0.0663\n",
      "F1 Score:                    0.0987\n",
      "Average Balanced Accuracy:   0.5325\n",
      "\n",
      " Epoch 2/3\n",
      "Train Loss:                  0.0676\n",
      "Train Accuracy:              0.9808\n",
      "Val Loss:                    0.0786\n",
      "Validation Accuracy:         0.9793\n",
      "Precision:                   0.4079\n",
      "Recall:                      0.0885\n",
      "F1 Score:                    0.1278\n",
      "Average Balanced Accuracy:   0.5432\n",
      "\n",
      " Epoch 3/3\n",
      "Train Loss:                  0.0649\n",
      "Train Accuracy:              0.9813\n",
      "Val Loss:                    0.0779\n",
      "Validation Accuracy:         0.9793\n",
      "Precision:                   0.4135\n",
      "Recall:                      0.0971\n",
      "F1 Score:                    0.1403\n",
      "Average Balanced Accuracy:   0.5474\n"
     ]
    }
   ],
   "source": [
    "device = \"cuda\"\n",
    "model_32 = SpectrogramTransformer(em_dim=32).to(device)\n",
    "train_loss_32, val_loss_32, metrics_32 = train_model(model_32)"
   ]
  },
  {
   "cell_type": "code",
   "execution_count": 49,
   "id": "8a5e5a46-8799-458b-ab04-989851b1211b",
   "metadata": {},
   "outputs": [],
   "source": [
    "torch.save(model_32.state_dict(), 'spectrogram_transformer32_weights.pth')\n",
    "torch.save(model_32, 'spectrogram_transformer32_full_model.pth')\n"
   ]
  },
  {
   "cell_type": "code",
   "execution_count": 41,
   "id": "a30f6c31-c376-41f6-aa61-1e019949d089",
   "metadata": {},
   "outputs": [],
   "source": [
    "train_loss_32 = [0.0746,0.0676,0.0649]\n",
    "val_loss_32 = [0.0778,0.0786,0.0779]"
   ]
  },
  {
   "cell_type": "code",
   "execution_count": 38,
   "id": "a9f8eaf0-1add-47d9-aabb-c7cbdbfe63b4",
   "metadata": {},
   "outputs": [
    {
     "name": "stdout",
     "output_type": "stream",
     "text": [
      "\n",
      " Epoch 1/3\n",
      "Train Loss:                  0.0781\n",
      "Train Accuracy:              0.9794\n",
      "Val Loss:                    0.0789\n",
      "Validation Accuracy:         0.9795\n",
      "Precision:                   0.2199\n",
      "Recall:                      0.0322\n",
      "F1 Score:                    0.0498\n",
      "Average Balanced Accuracy:   0.5158\n",
      "\n",
      " Epoch 2/3\n",
      "Train Loss:                  0.0729\n",
      "Train Accuracy:              0.9800\n",
      "Val Loss:                    0.0782\n",
      "Validation Accuracy:         0.9796\n",
      "Precision:                   0.3324\n",
      "Recall:                      0.0492\n",
      "F1 Score:                    0.0740\n",
      "Average Balanced Accuracy:   0.5241\n",
      "\n",
      " Epoch 3/3\n",
      "Train Loss:                  0.0715\n",
      "Train Accuracy:              0.9802\n",
      "Val Loss:                    0.0788\n",
      "Validation Accuracy:         0.9794\n",
      "Precision:                   0.3560\n",
      "Recall:                      0.0661\n",
      "F1 Score:                    0.0997\n",
      "Average Balanced Accuracy:   0.5323\n"
     ]
    }
   ],
   "source": [
    "model_16 = SpectrogramTransformer(em_dim=16).to(device)\n",
    "train_loss_16, val_loss_16, metrics_16 = train_model(model_16)"
   ]
  },
  {
   "cell_type": "code",
   "execution_count": 43,
   "id": "9c9a63d5-dffc-4d53-9357-5f1e4c03b8e4",
   "metadata": {},
   "outputs": [
    {
     "data": {
      "image/png": "[encoded data removed]",
      "text/plain": [
       "<Figure size 1400x700 with 2 Axes>"
      ]
     },
     "metadata": {},
     "output_type": "display_data"
    }
   ],
   "source": [
    "import matplotlib.pyplot as plt\n",
    "import seaborn as sns\n",
    "\n",
    "sns.set(style=\"whitegrid\")\n",
    "fig, ax = plt.subplots(1, 2, figsize=(14, 7))\n",
    "\n",
    "epochs = 6\n",
    "# Transformer 32\n",
    "ax[0].plot(range(1,3+1,1), train_loss_32, label=\"Training Loss\")\n",
    "ax[0].plot(range(1,3+1,1), val_loss_32, label=\"Validation Loss\")\n",
    "ax[0].set_title(\"Transformer (32) Training vs Validation Loss\")\n",
    "ax[0].set_xlabel(\"Epochs\")\n",
    "ax[0].set_ylabel(\"Loss\")\n",
    "ax[0].legend()\n",
    "\n",
    "# Transformer `6\n",
    "ax[1].plot(range(3), train_loss_16, label=\"Training Loss\")\n",
    "ax[1].plot(range(3), val_loss_16, label=\"Validation Loss\")\n",
    "ax[1].set_title(\"Transformer (16) Training vs Validation Loss\")\n",
    "ax[1].set_xlabel(\"Epochs\")\n",
    "ax[1].set_ylabel(\"Loss\")\n",
    "ax[1].legend()\n",
    "\n",
    "plt.tight_layout()\n",
    "plt.show()\n"
   ]
  },
  {
   "cell_type": "code",
   "execution_count": 46,
   "id": "88695237-b865-47ab-8786-4569712ea3e4",
   "metadata": {},
   "outputs": [],
   "source": [
    "def evaluate_model_on_test_set(model):\n",
    "    import torch\n",
    "    import torch.nn as nn\n",
    "    from torch.utils.data import DataLoader, TensorDataset\n",
    "    from torch.nn.functional import sigmoid\n",
    "\n",
    "    # Prepare test data\n",
    "    scaled_test_x_tensor = torch.tensor(scaled_test_x, dtype=torch.float32)\n",
    "    test_y_tensor = torch.tensor(test_y, dtype=torch.float32)\n",
    "    test_dataset = TensorDataset(scaled_test_x_tensor, test_y_tensor)\n",
    "    test_loader = DataLoader(test_dataset, batch_size=32)\n",
    "\n",
    "    model.eval()\n",
    "    criterion = nn.BCEWithLogitsLoss()\n",
    "    test_loss = 0.0\n",
    "    all_preds = []\n",
    "    all_targets = []\n",
    "\n",
    "    with torch.no_grad():\n",
    "        for x_test, y_test in test_loader:\n",
    "            x_test = x_test.to(device).float()\n",
    "            y_test = y_test.to(device).float()\n",
    "\n",
    "            output = model(x_test)\n",
    "            test_loss += criterion(output, y_test).item()\n",
    "\n",
    "            probs = sigmoid(output)\n",
    "            preds = (probs > 0.5).int()\n",
    "            targets = y_test.int()\n",
    "\n",
    "            all_preds.append(preds)\n",
    "            all_targets.append(targets)\n",
    "\n",
    "    # Concatenate predictions\n",
    "    all_preds = torch.cat(all_preds, dim=0)\n",
    "    all_targets = torch.cat(all_targets, dim=0)\n",
    "\n",
    "    # Compute metrics\n",
    "    TP = (all_preds & all_targets).sum(dim=0).float()\n",
    "    FP = ((all_preds == 1) & (all_targets == 0)).sum(dim=0).float()\n",
    "    FN = ((all_preds == 0) & (all_targets == 1)).sum(dim=0).float()\n",
    "    TN = ((all_preds == 0) & (all_targets == 0)).sum(dim=0).float()\n",
    "\n",
    "    precision = TP / (TP + FP + 1e-8)\n",
    "    recall = TP / (TP + FN + 1e-8)\n",
    "    f1 = (2 * precision * recall) / (precision + recall + 1e-8)\n",
    "    tnr = TN / (TN + FP + 1e-8)\n",
    "    balanced_acc = (recall + tnr) / 2\n",
    "\n",
    "    avg_precision = precision.mean().item()\n",
    "    avg_recall = recall.mean().item()\n",
    "    avg_f1 = f1.mean().item()\n",
    "    avg_bal_acc = balanced_acc.mean().item()\n",
    "    exact_match_accuracy = (all_preds == all_targets).float().mean().item()\n",
    "    avg_test_loss = test_loss / len(test_loader)\n",
    "\n",
    "    # Print metrics\n",
    "    print(\"\\n📊 Test Set Evaluation\")\n",
    "    print(f\"Test Loss:                 {avg_test_loss:.4f}\")\n",
    "    print(f\"Test Accuracy:             {exact_match_accuracy * 100:.2f}%\")\n",
    "    print(f\"Precision (macro):         {avg_precision * 100:.2f}%\")\n",
    "    print(f\"Recall (macro):            {avg_recall * 100:.2f}%\")\n",
    "    print(f\"F1 Score (macro):          {avg_f1 * 100:.2f}%\")\n",
    "    print(f\"Balanced Accuracy (macro):{avg_bal_acc * 100:.2f}%\")\n",
    "\n",
    "    return {\n",
    "        \"test_loss\": avg_test_loss,\n",
    "        \"accuracy\": exact_match_accuracy,\n",
    "        \"precision\": avg_precision,\n",
    "        \"recall\": avg_recall,\n",
    "        \"f1\": avg_f1,\n",
    "        \"balanced_accuracy\": avg_bal_acc\n",
    "    }\n"
   ]
  },
  {
   "cell_type": "code",
   "execution_count": 47,
   "id": "52072166-94a3-4e6d-9833-22459aaa4fb9",
   "metadata": {},
   "outputs": [
    {
     "name": "stdout",
     "output_type": "stream",
     "text": [
      "\n",
      "📊 Test Set Evaluation\n",
      "Test Loss:                 0.0809\n",
      "Test Accuracy:             97.90%\n",
      "Precision (macro):         30.33%\n",
      "Recall (macro):            5.92%\n",
      "F1 Score (macro):          8.69%\n",
      "Balanced Accuracy (macro):52.88%\n"
     ]
    }
   ],
   "source": [
    "metrics_test = evaluate_model_on_test_set(model_16)"
   ]
  },
  {
   "cell_type": "code",
   "execution_count": 48,
   "id": "4420b1dd-60aa-4848-9713-2e949a398bca",
   "metadata": {},
   "outputs": [
    {
     "name": "stdout",
     "output_type": "stream",
     "text": [
      "\n",
      "📊 Test Set Evaluation\n",
      "Test Loss:                 0.0807\n",
      "Test Accuracy:             97.87%\n",
      "Precision (macro):         32.45%\n",
      "Recall (macro):            8.20%\n",
      "F1 Score (macro):          11.70%\n",
      "Balanced Accuracy (macro):53.99%\n"
     ]
    }
   ],
   "source": [
    "metrics_test_32 = evaluate_model_on_test_set(model_32)"
   ]
  },
  {
   "cell_type": "code",
   "execution_count": null,
   "id": "60179e2e-9172-4a98-97b2-7bf5828ce406",
   "metadata": {},
   "outputs": [],
   "source": []
  }
 ],
 "metadata": {
  "kernelspec": {
   "display_name": "Python 3 (ipykernel)",
   "language": "python",
   "name": "python3"
  },
  "language_info": {
   "codemirror_mode": {
    "name": "ipython",
    "version": 3
   },
   "file_extension": ".py",
   "mimetype": "text/x-python",
   "name": "python",
   "nbconvert_exporter": "python",
   "pygments_lexer": "ipython3",
   "version": "3.8.19"
  }
 },
 "nbformat": 4,
 "nbformat_minor": 5
}
