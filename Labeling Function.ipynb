{
 "cells": [
  {
   "cell_type": "code",
   "execution_count": 1,
   "id": "efb32e15-af23-43b6-970f-c1fbc982c028",
   "metadata": {},
   "outputs": [],
   "source": [
    "import numpy as np \n",
    "import pandas as pd "
   ]
  },
  {
   "cell_type": "code",
   "execution_count": 17,
   "id": "7ae8728f-74da-44bf-b0d3-2d7c47b29469",
   "metadata": {},
   "outputs": [
    {
     "data": {
      "text/plain": [
       "(27552, 9)"
      ]
     },
     "execution_count": 17,
     "metadata": {},
     "output_type": "execute_result"
    }
   ],
   "source": [
    "an_df = pd.read_csv(\"annotations.csv\")\n",
    "meta_df = pd.read_csv(\"metadata.csv\")\n",
    "an_df.shape"
   ]
  },
  {
   "cell_type": "code",
   "execution_count": 3,
   "id": "c3cca571-b4b9-4f62-bfcf-d06ac3a297ef",
   "metadata": {},
   "outputs": [
    {
     "name": "stdout",
     "output_type": "stream",
     "text": [
      "11197\n"
     ]
    }
   ],
   "source": [
    "count=0\n",
    "for c,a in zip(an_df[\"categories\"],an_df[\"text\"]):\n",
    "    c =c.strip(\"[]' ,\")\n",
    "    if c.lower()in a :\n",
    "        count+=1\n",
    "print(count)\n",
    "  "
   ]
  },
  {
   "cell_type": "code",
   "execution_count": 28,
   "id": "44a64682-3011-4ca1-8b6b-d08c3e03eb1a",
   "metadata": {},
   "outputs": [
    {
     "name": "stdout",
     "output_type": "stream",
     "text": [
      "10052\n"
     ]
    }
   ],
   "source": [
    "import re\n",
    "\n",
    "count = 0\n",
    "for c,a in zip(an_df[\"categories\"],an_df[\"text\"]):\n",
    "    c =c.strip(\"[]' ,\")\n",
    "    keywords = c.lower().split(\"/\")\n",
    "    for keyword in keywords:\n",
    "        if re.search(rf'\\b{re.escape(keyword.lower())}\\b', a.lower()):\n",
    "            count+=1 \n",
    "print(count)"
   ]
  },
  {
   "cell_type": "code",
   "execution_count": 22,
   "id": "00bdf332-5735-4e9d-b2a0-3d067bb7c689",
   "metadata": {},
   "outputs": [
    {
     "name": "stdout",
     "output_type": "stream",
     "text": [
      "0.3645470383275261\n"
     ]
    }
   ],
   "source": [
    "acc = 10044/27552\n",
    "print(acc)"
   ]
  },
  {
   "cell_type": "code",
   "execution_count": null,
   "id": "bd9d2e24-6298-4ea2-a580-bc37ab079dc0",
   "metadata": {},
   "outputs": [],
   "source": []
  }
 ],
 "metadata": {
  "kernelspec": {
   "display_name": "Python 3 (ipykernel)",
   "language": "python",
   "name": "python3"
  },
  "language_info": {
   "codemirror_mode": {
    "name": "ipython",
    "version": 3
   },
   "file_extension": ".py",
   "mimetype": "text/x-python",
   "name": "python",
   "nbconvert_exporter": "python",
   "pygments_lexer": "ipython3",
   "version": "3.11.11"
  }
 },
 "nbformat": 4,
 "nbformat_minor": 5
}
