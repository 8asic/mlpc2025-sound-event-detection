{
  "nbformat": 4,
  "nbformat_minor": 0,
  "metadata": {
    "colab": {
      "provenance": [],
      "machine_shape": "hm",
      "gpuType": "T4"
    },
    "kernelspec": {
      "name": "python3",
      "display_name": "Python 3"
    },
    "language_info": {
      "name": "python"
    },
    "accelerator": "GPU",
    "widgets": {
      "application/vnd.jupyter.widget-state+json": {
        "93425df3036e40238da84df7ef501005": {
          "model_module": "@jupyter-widgets/controls",
          "model_name": "HBoxModel",
          "model_module_version": "1.5.0",
          "state": {
            "_dom_classes": [],
            "_model_module": "@jupyter-widgets/controls",
            "_model_module_version": "1.5.0",
            "_model_name": "HBoxModel",
            "_view_count": null,
            "_view_module": "@jupyter-widgets/controls",
            "_view_module_version": "1.5.0",
            "_view_name": "HBoxView",
            "box_style": "",
            "children": [
              "IPY_MODEL_b41d93eab32f4497b3f2bdd794a086a5",
              "IPY_MODEL_1f7057abdfdf42328e539a5e4439f90d",
              "IPY_MODEL_fa333fbe7057489fb0218e4a3e56dbba"
            ],
            "layout": "IPY_MODEL_1dfadf9a529247dba2b2a37598b8d3e9"
          }
        },
        "b41d93eab32f4497b3f2bdd794a086a5": {
          "model_module": "@jupyter-widgets/controls",
          "model_name": "HTMLModel",
          "model_module_version": "1.5.0",
          "state": {
            "_dom_classes": [],
            "_model_module": "@jupyter-widgets/controls",
            "_model_module_version": "1.5.0",
            "_model_name": "HTMLModel",
            "_view_count": null,
            "_view_module": "@jupyter-widgets/controls",
            "_view_module_version": "1.5.0",
            "_view_name": "HTMLView",
            "description": "",
            "description_tooltip": null,
            "layout": "IPY_MODEL_ec78ba68bd7e441080b8a673607397f9",
            "placeholder": "​",
            "style": "IPY_MODEL_f153c58d3f6f4c89b236d136fab76b44",
            "value": "compute_cost.py: 100%"
          }
        },
        "1f7057abdfdf42328e539a5e4439f90d": {
          "model_module": "@jupyter-widgets/controls",
          "model_name": "FloatProgressModel",
          "model_module_version": "1.5.0",
          "state": {
            "_dom_classes": [],
            "_model_module": "@jupyter-widgets/controls",
            "_model_module_version": "1.5.0",
            "_model_name": "FloatProgressModel",
            "_view_count": null,
            "_view_module": "@jupyter-widgets/controls",
            "_view_module_version": "1.5.0",
            "_view_name": "ProgressView",
            "bar_style": "success",
            "description": "",
            "description_tooltip": null,
            "layout": "IPY_MODEL_9f3a76f4ee65454eaa4128b7b3746a4b",
            "max": 9952,
            "min": 0,
            "orientation": "horizontal",
            "style": "IPY_MODEL_c30a94469a734f9ca6081d85ed6664ee",
            "value": 9952
          }
        },
        "fa333fbe7057489fb0218e4a3e56dbba": {
          "model_module": "@jupyter-widgets/controls",
          "model_name": "HTMLModel",
          "model_module_version": "1.5.0",
          "state": {
            "_dom_classes": [],
            "_model_module": "@jupyter-widgets/controls",
            "_model_module_version": "1.5.0",
            "_model_name": "HTMLModel",
            "_view_count": null,
            "_view_module": "@jupyter-widgets/controls",
            "_view_module_version": "1.5.0",
            "_view_name": "HTMLView",
            "description": "",
            "description_tooltip": null,
            "layout": "IPY_MODEL_97ce579af2e747bb8fe2ee91eb069bc3",
            "placeholder": "​",
            "style": "IPY_MODEL_88db67db01334f67b0f39adb70c03a87",
            "value": " 9.95k/9.95k [00:00&lt;00:00, 740kB/s]"
          }
        },
        "1dfadf9a529247dba2b2a37598b8d3e9": {
          "model_module": "@jupyter-widgets/base",
          "model_name": "LayoutModel",
          "model_module_version": "1.2.0",
          "state": {
            "_model_module": "@jupyter-widgets/base",
            "_model_module_version": "1.2.0",
            "_model_name": "LayoutModel",
            "_view_count": null,
            "_view_module": "@jupyter-widgets/base",
            "_view_module_version": "1.2.0",
            "_view_name": "LayoutView",
            "align_content": null,
            "align_items": null,
            "align_self": null,
            "border": null,
            "bottom": null,
            "display": null,
            "flex": null,
            "flex_flow": null,
            "grid_area": null,
            "grid_auto_columns": null,
            "grid_auto_flow": null,
            "grid_auto_rows": null,
            "grid_column": null,
            "grid_gap": null,
            "grid_row": null,
            "grid_template_areas": null,
            "grid_template_columns": null,
            "grid_template_rows": null,
            "height": null,
            "justify_content": null,
            "justify_items": null,
            "left": null,
            "margin": null,
            "max_height": null,
            "max_width": null,
            "min_height": null,
            "min_width": null,
            "object_fit": null,
            "object_position": null,
            "order": null,
            "overflow": null,
            "overflow_x": null,
            "overflow_y": null,
            "padding": null,
            "right": null,
            "top": null,
            "visibility": null,
            "width": null
          }
        },
        "ec78ba68bd7e441080b8a673607397f9": {
          "model_module": "@jupyter-widgets/base",
          "model_name": "LayoutModel",
          "model_module_version": "1.2.0",
          "state": {
            "_model_module": "@jupyter-widgets/base",
            "_model_module_version": "1.2.0",
            "_model_name": "LayoutModel",
            "_view_count": null,
            "_view_module": "@jupyter-widgets/base",
            "_view_module_version": "1.2.0",
            "_view_name": "LayoutView",
            "align_content": null,
            "align_items": null,
            "align_self": null,
            "border": null,
            "bottom": null,
            "display": null,
            "flex": null,
            "flex_flow": null,
            "grid_area": null,
            "grid_auto_columns": null,
            "grid_auto_flow": null,
            "grid_auto_rows": null,
            "grid_column": null,
            "grid_gap": null,
            "grid_row": null,
            "grid_template_areas": null,
            "grid_template_columns": null,
            "grid_template_rows": null,
            "height": null,
            "justify_content": null,
            "justify_items": null,
            "left": null,
            "margin": null,
            "max_height": null,
            "max_width": null,
            "min_height": null,
            "min_width": null,
            "object_fit": null,
            "object_position": null,
            "order": null,
            "overflow": null,
            "overflow_x": null,
            "overflow_y": null,
            "padding": null,
            "right": null,
            "top": null,
            "visibility": null,
            "width": null
          }
        },
        "f153c58d3f6f4c89b236d136fab76b44": {
          "model_module": "@jupyter-widgets/controls",
          "model_name": "DescriptionStyleModel",
          "model_module_version": "1.5.0",
          "state": {
            "_model_module": "@jupyter-widgets/controls",
            "_model_module_version": "1.5.0",
            "_model_name": "DescriptionStyleModel",
            "_view_count": null,
            "_view_module": "@jupyter-widgets/base",
            "_view_module_version": "1.2.0",
            "_view_name": "StyleView",
            "description_width": ""
          }
        },
        "9f3a76f4ee65454eaa4128b7b3746a4b": {
          "model_module": "@jupyter-widgets/base",
          "model_name": "LayoutModel",
          "model_module_version": "1.2.0",
          "state": {
            "_model_module": "@jupyter-widgets/base",
            "_model_module_version": "1.2.0",
            "_model_name": "LayoutModel",
            "_view_count": null,
            "_view_module": "@jupyter-widgets/base",
            "_view_module_version": "1.2.0",
            "_view_name": "LayoutView",
            "align_content": null,
            "align_items": null,
            "align_self": null,
            "border": null,
            "bottom": null,
            "display": null,
            "flex": null,
            "flex_flow": null,
            "grid_area": null,
            "grid_auto_columns": null,
            "grid_auto_flow": null,
            "grid_auto_rows": null,
            "grid_column": null,
            "grid_gap": null,
            "grid_row": null,
            "grid_template_areas": null,
            "grid_template_columns": null,
            "grid_template_rows": null,
            "height": null,
            "justify_content": null,
            "justify_items": null,
            "left": null,
            "margin": null,
            "max_height": null,
            "max_width": null,
            "min_height": null,
            "min_width": null,
            "object_fit": null,
            "object_position": null,
            "order": null,
            "overflow": null,
            "overflow_x": null,
            "overflow_y": null,
            "padding": null,
            "right": null,
            "top": null,
            "visibility": null,
            "width": null
          }
        },
        "c30a94469a734f9ca6081d85ed6664ee": {
          "model_module": "@jupyter-widgets/controls",
          "model_name": "ProgressStyleModel",
          "model_module_version": "1.5.0",
          "state": {
            "_model_module": "@jupyter-widgets/controls",
            "_model_module_version": "1.5.0",
            "_model_name": "ProgressStyleModel",
            "_view_count": null,
            "_view_module": "@jupyter-widgets/base",
            "_view_module_version": "1.2.0",
            "_view_name": "StyleView",
            "bar_color": null,
            "description_width": ""
          }
        },
        "97ce579af2e747bb8fe2ee91eb069bc3": {
          "model_module": "@jupyter-widgets/base",
          "model_name": "LayoutModel",
          "model_module_version": "1.2.0",
          "state": {
            "_model_module": "@jupyter-widgets/base",
            "_model_module_version": "1.2.0",
            "_model_name": "LayoutModel",
            "_view_count": null,
            "_view_module": "@jupyter-widgets/base",
            "_view_module_version": "1.2.0",
            "_view_name": "LayoutView",
            "align_content": null,
            "align_items": null,
            "align_self": null,
            "border": null,
            "bottom": null,
            "display": null,
            "flex": null,
            "flex_flow": null,
            "grid_area": null,
            "grid_auto_columns": null,
            "grid_auto_flow": null,
            "grid_auto_rows": null,
            "grid_column": null,
            "grid_gap": null,
            "grid_row": null,
            "grid_template_areas": null,
            "grid_template_columns": null,
            "grid_template_rows": null,
            "height": null,
            "justify_content": null,
            "justify_items": null,
            "left": null,
            "margin": null,
            "max_height": null,
            "max_width": null,
            "min_height": null,
            "min_width": null,
            "object_fit": null,
            "object_position": null,
            "order": null,
            "overflow": null,
            "overflow_x": null,
            "overflow_y": null,
            "padding": null,
            "right": null,
            "top": null,
            "visibility": null,
            "width": null
          }
        },
        "88db67db01334f67b0f39adb70c03a87": {
          "model_module": "@jupyter-widgets/controls",
          "model_name": "DescriptionStyleModel",
          "model_module_version": "1.5.0",
          "state": {
            "_model_module": "@jupyter-widgets/controls",
            "_model_module_version": "1.5.0",
            "_model_name": "DescriptionStyleModel",
            "_view_count": null,
            "_view_module": "@jupyter-widgets/base",
            "_view_module_version": "1.2.0",
            "_view_name": "StyleView",
            "description_width": ""
          }
        },
        "13c1454ee6354ae7895409a87bdac657": {
          "model_module": "@jupyter-widgets/controls",
          "model_name": "HBoxModel",
          "model_module_version": "1.5.0",
          "state": {
            "_dom_classes": [],
            "_model_module": "@jupyter-widgets/controls",
            "_model_module_version": "1.5.0",
            "_model_name": "HBoxModel",
            "_view_count": null,
            "_view_module": "@jupyter-widgets/controls",
            "_view_module_version": "1.5.0",
            "_view_name": "HBoxView",
            "box_style": "",
            "children": [
              "IPY_MODEL_ff7b60a18a0f49589301a2f38b52d741",
              "IPY_MODEL_12e160f8470447688a097f62272c70a4",
              "IPY_MODEL_0949d71ec64a4bd6acd09104929ab2c9"
            ],
            "layout": "IPY_MODEL_d8b7402092e54c83baa37021aae4edd5"
          }
        },
        "ff7b60a18a0f49589301a2f38b52d741": {
          "model_module": "@jupyter-widgets/controls",
          "model_name": "HTMLModel",
          "model_module_version": "1.5.0",
          "state": {
            "_dom_classes": [],
            "_model_module": "@jupyter-widgets/controls",
            "_model_module_version": "1.5.0",
            "_model_name": "HTMLModel",
            "_view_count": null,
            "_view_module": "@jupyter-widgets/controls",
            "_view_module_version": "1.5.0",
            "_view_name": "HTMLView",
            "description": "",
            "description_tooltip": null,
            "layout": "IPY_MODEL_eda8a9986581469fa950a734ce2b6c35",
            "placeholder": "​",
            "style": "IPY_MODEL_c33eaa05450d41f49229c2a217d8f69c",
            "value": "mlpc2025_dataset.zip: 100%"
          }
        },
        "12e160f8470447688a097f62272c70a4": {
          "model_module": "@jupyter-widgets/controls",
          "model_name": "FloatProgressModel",
          "model_module_version": "1.5.0",
          "state": {
            "_dom_classes": [],
            "_model_module": "@jupyter-widgets/controls",
            "_model_module_version": "1.5.0",
            "_model_name": "FloatProgressModel",
            "_view_count": null,
            "_view_module": "@jupyter-widgets/controls",
            "_view_module_version": "1.5.0",
            "_view_name": "ProgressView",
            "bar_style": "success",
            "description": "",
            "description_tooltip": null,
            "layout": "IPY_MODEL_f26fed32d30744758cd55e9df60238c1",
            "max": 8706794010,
            "min": 0,
            "orientation": "horizontal",
            "style": "IPY_MODEL_a3ee086680964420894fc18ebb1f7ea3",
            "value": 8706794010
          }
        },
        "0949d71ec64a4bd6acd09104929ab2c9": {
          "model_module": "@jupyter-widgets/controls",
          "model_name": "HTMLModel",
          "model_module_version": "1.5.0",
          "state": {
            "_dom_classes": [],
            "_model_module": "@jupyter-widgets/controls",
            "_model_module_version": "1.5.0",
            "_model_name": "HTMLModel",
            "_view_count": null,
            "_view_module": "@jupyter-widgets/controls",
            "_view_module_version": "1.5.0",
            "_view_name": "HTMLView",
            "description": "",
            "description_tooltip": null,
            "layout": "IPY_MODEL_92ba60dc21d047dabc991012d6399255",
            "placeholder": "​",
            "style": "IPY_MODEL_cf2efe51128743c8a5d20d0e87516bef",
            "value": " 8.71G/8.71G [01:06&lt;00:00, 197MB/s]"
          }
        },
        "d8b7402092e54c83baa37021aae4edd5": {
          "model_module": "@jupyter-widgets/base",
          "model_name": "LayoutModel",
          "model_module_version": "1.2.0",
          "state": {
            "_model_module": "@jupyter-widgets/base",
            "_model_module_version": "1.2.0",
            "_model_name": "LayoutModel",
            "_view_count": null,
            "_view_module": "@jupyter-widgets/base",
            "_view_module_version": "1.2.0",
            "_view_name": "LayoutView",
            "align_content": null,
            "align_items": null,
            "align_self": null,
            "border": null,
            "bottom": null,
            "display": null,
            "flex": null,
            "flex_flow": null,
            "grid_area": null,
            "grid_auto_columns": null,
            "grid_auto_flow": null,
            "grid_auto_rows": null,
            "grid_column": null,
            "grid_gap": null,
            "grid_row": null,
            "grid_template_areas": null,
            "grid_template_columns": null,
            "grid_template_rows": null,
            "height": null,
            "justify_content": null,
            "justify_items": null,
            "left": null,
            "margin": null,
            "max_height": null,
            "max_width": null,
            "min_height": null,
            "min_width": null,
            "object_fit": null,
            "object_position": null,
            "order": null,
            "overflow": null,
            "overflow_x": null,
            "overflow_y": null,
            "padding": null,
            "right": null,
            "top": null,
            "visibility": null,
            "width": null
          }
        },
        "eda8a9986581469fa950a734ce2b6c35": {
          "model_module": "@jupyter-widgets/base",
          "model_name": "LayoutModel",
          "model_module_version": "1.2.0",
          "state": {
            "_model_module": "@jupyter-widgets/base",
            "_model_module_version": "1.2.0",
            "_model_name": "LayoutModel",
            "_view_count": null,
            "_view_module": "@jupyter-widgets/base",
            "_view_module_version": "1.2.0",
            "_view_name": "LayoutView",
            "align_content": null,
            "align_items": null,
            "align_self": null,
            "border": null,
            "bottom": null,
            "display": null,
            "flex": null,
            "flex_flow": null,
            "grid_area": null,
            "grid_auto_columns": null,
            "grid_auto_flow": null,
            "grid_auto_rows": null,
            "grid_column": null,
            "grid_gap": null,
            "grid_row": null,
            "grid_template_areas": null,
            "grid_template_columns": null,
            "grid_template_rows": null,
            "height": null,
            "justify_content": null,
            "justify_items": null,
            "left": null,
            "margin": null,
            "max_height": null,
            "max_width": null,
            "min_height": null,
            "min_width": null,
            "object_fit": null,
            "object_position": null,
            "order": null,
            "overflow": null,
            "overflow_x": null,
            "overflow_y": null,
            "padding": null,
            "right": null,
            "top": null,
            "visibility": null,
            "width": null
          }
        },
        "c33eaa05450d41f49229c2a217d8f69c": {
          "model_module": "@jupyter-widgets/controls",
          "model_name": "DescriptionStyleModel",
          "model_module_version": "1.5.0",
          "state": {
            "_model_module": "@jupyter-widgets/controls",
            "_model_module_version": "1.5.0",
            "_model_name": "DescriptionStyleModel",
            "_view_count": null,
            "_view_module": "@jupyter-widgets/base",
            "_view_module_version": "1.2.0",
            "_view_name": "StyleView",
            "description_width": ""
          }
        },
        "f26fed32d30744758cd55e9df60238c1": {
          "model_module": "@jupyter-widgets/base",
          "model_name": "LayoutModel",
          "model_module_version": "1.2.0",
          "state": {
            "_model_module": "@jupyter-widgets/base",
            "_model_module_version": "1.2.0",
            "_model_name": "LayoutModel",
            "_view_count": null,
            "_view_module": "@jupyter-widgets/base",
            "_view_module_version": "1.2.0",
            "_view_name": "LayoutView",
            "align_content": null,
            "align_items": null,
            "align_self": null,
            "border": null,
            "bottom": null,
            "display": null,
            "flex": null,
            "flex_flow": null,
            "grid_area": null,
            "grid_auto_columns": null,
            "grid_auto_flow": null,
            "grid_auto_rows": null,
            "grid_column": null,
            "grid_gap": null,
            "grid_row": null,
            "grid_template_areas": null,
            "grid_template_columns": null,
            "grid_template_rows": null,
            "height": null,
            "justify_content": null,
            "justify_items": null,
            "left": null,
            "margin": null,
            "max_height": null,
            "max_width": null,
            "min_height": null,
            "min_width": null,
            "object_fit": null,
            "object_position": null,
            "order": null,
            "overflow": null,
            "overflow_x": null,
            "overflow_y": null,
            "padding": null,
            "right": null,
            "top": null,
            "visibility": null,
            "width": null
          }
        },
        "a3ee086680964420894fc18ebb1f7ea3": {
          "model_module": "@jupyter-widgets/controls",
          "model_name": "ProgressStyleModel",
          "model_module_version": "1.5.0",
          "state": {
            "_model_module": "@jupyter-widgets/controls",
            "_model_module_version": "1.5.0",
            "_model_name": "ProgressStyleModel",
            "_view_count": null,
            "_view_module": "@jupyter-widgets/base",
            "_view_module_version": "1.2.0",
            "_view_name": "StyleView",
            "bar_color": null,
            "description_width": ""
          }
        },
        "92ba60dc21d047dabc991012d6399255": {
          "model_module": "@jupyter-widgets/base",
          "model_name": "LayoutModel",
          "model_module_version": "1.2.0",
          "state": {
            "_model_module": "@jupyter-widgets/base",
            "_model_module_version": "1.2.0",
            "_model_name": "LayoutModel",
            "_view_count": null,
            "_view_module": "@jupyter-widgets/base",
            "_view_module_version": "1.2.0",
            "_view_name": "LayoutView",
            "align_content": null,
            "align_items": null,
            "align_self": null,
            "border": null,
            "bottom": null,
            "display": null,
            "flex": null,
            "flex_flow": null,
            "grid_area": null,
            "grid_auto_columns": null,
            "grid_auto_flow": null,
            "grid_auto_rows": null,
            "grid_column": null,
            "grid_gap": null,
            "grid_row": null,
            "grid_template_areas": null,
            "grid_template_columns": null,
            "grid_template_rows": null,
            "height": null,
            "justify_content": null,
            "justify_items": null,
            "left": null,
            "margin": null,
            "max_height": null,
            "max_width": null,
            "min_height": null,
            "min_width": null,
            "object_fit": null,
            "object_position": null,
            "order": null,
            "overflow": null,
            "overflow_x": null,
            "overflow_y": null,
            "padding": null,
            "right": null,
            "top": null,
            "visibility": null,
            "width": null
          }
        },
        "cf2efe51128743c8a5d20d0e87516bef": {
          "model_module": "@jupyter-widgets/controls",
          "model_name": "DescriptionStyleModel",
          "model_module_version": "1.5.0",
          "state": {
            "_model_module": "@jupyter-widgets/controls",
            "_model_module_version": "1.5.0",
            "_model_name": "DescriptionStyleModel",
            "_view_count": null,
            "_view_module": "@jupyter-widgets/base",
            "_view_module_version": "1.2.0",
            "_view_name": "StyleView",
            "description_width": ""
          }
        }
      }
    }
  },
  "cells": [
    {
      "cell_type": "code",
      "execution_count": 1,
      "metadata": {
        "id": "s0HDM5sM-rLg",
        "colab": {
          "base_uri": "https://localhost:8080/"
        },
        "outputId": "ade2324e-2502-4822-d496-2d2e599e26ef"
      },
      "outputs": [
        {
          "output_type": "stream",
          "name": "stdout",
          "text": [
            "\u001b[2K   \u001b[90m━━━━━━━━━━━━━━━━━━━━━━━━━━━━━━━━━━━━━━━━\u001b[0m \u001b[32m363.4/363.4 MB\u001b[0m \u001b[31m3.7 MB/s\u001b[0m eta \u001b[36m0:00:00\u001b[0m\n",
            "\u001b[2K   \u001b[90m━━━━━━━━━━━━━━━━━━━━━━━━━━━━━━━━━━━━━━━━\u001b[0m \u001b[32m13.8/13.8 MB\u001b[0m \u001b[31m75.5 MB/s\u001b[0m eta \u001b[36m0:00:00\u001b[0m\n",
            "\u001b[2K   \u001b[90m━━━━━━━━━━━━━━━━━━━━━━━━━━━━━━━━━━━━━━━━\u001b[0m \u001b[32m24.6/24.6 MB\u001b[0m \u001b[31m54.2 MB/s\u001b[0m eta \u001b[36m0:00:00\u001b[0m\n",
            "\u001b[2K   \u001b[90m━━━━━━━━━━━━━━━━━━━━━━━━━━━━━━━━━━━━━━━━\u001b[0m \u001b[32m883.7/883.7 kB\u001b[0m \u001b[31m43.8 MB/s\u001b[0m eta \u001b[36m0:00:00\u001b[0m\n",
            "\u001b[2K   \u001b[90m━━━━━━━━━━━━━━━━━━━━━━━━━━━━━━━━━━━━━━━━\u001b[0m \u001b[32m664.8/664.8 MB\u001b[0m \u001b[31m2.0 MB/s\u001b[0m eta \u001b[36m0:00:00\u001b[0m\n",
            "\u001b[2K   \u001b[90m━━━━━━━━━━━━━━━━━━━━━━━━━━━━━━━━━━━━━━━━\u001b[0m \u001b[32m211.5/211.5 MB\u001b[0m \u001b[31m6.1 MB/s\u001b[0m eta \u001b[36m0:00:00\u001b[0m\n",
            "\u001b[2K   \u001b[90m━━━━━━━━━━━━━━━━━━━━━━━━━━━━━━━━━━━━━━━━\u001b[0m \u001b[32m56.3/56.3 MB\u001b[0m \u001b[31m12.9 MB/s\u001b[0m eta \u001b[36m0:00:00\u001b[0m\n",
            "\u001b[2K   \u001b[90m━━━━━━━━━━━━━━━━━━━━━━━━━━━━━━━━━━━━━━━━\u001b[0m \u001b[32m127.9/127.9 MB\u001b[0m \u001b[31m7.5 MB/s\u001b[0m eta \u001b[36m0:00:00\u001b[0m\n",
            "\u001b[2K   \u001b[90m━━━━━━━━━━━━━━━━━━━━━━━━━━━━━━━━━━━━━━━━\u001b[0m \u001b[32m207.5/207.5 MB\u001b[0m \u001b[31m5.5 MB/s\u001b[0m eta \u001b[36m0:00:00\u001b[0m\n",
            "\u001b[2K   \u001b[90m━━━━━━━━━━━━━━━━━━━━━━━━━━━━━━━━━━━━━━━━\u001b[0m \u001b[32m21.1/21.1 MB\u001b[0m \u001b[31m105.2 MB/s\u001b[0m eta \u001b[36m0:00:00\u001b[0m\n",
            "\u001b[2K   \u001b[90m━━━━━━━━━━━━━━━━━━━━━━━━━━━━━━━━━━━━━━━━\u001b[0m \u001b[32m823.1/823.1 kB\u001b[0m \u001b[31m52.2 MB/s\u001b[0m eta \u001b[36m0:00:00\u001b[0m\n",
            "\u001b[2K   \u001b[90m━━━━━━━━━━━━━━━━━━━━━━━━━━━━━━━━━━━━━━━━\u001b[0m \u001b[32m962.6/962.6 kB\u001b[0m \u001b[31m56.7 MB/s\u001b[0m eta \u001b[36m0:00:00\u001b[0m\n",
            "\u001b[2K   \u001b[90m━━━━━━━━━━━━━━━━━━━━━━━━━━━━━━━━━━━━━━━━\u001b[0m \u001b[32m1.6/1.6 MB\u001b[0m \u001b[31m81.8 MB/s\u001b[0m eta \u001b[36m0:00:00\u001b[0m\n",
            "\u001b[?25h"
          ]
        }
      ],
      "source": [
        "# Install required packages\n",
        "!pip install --quiet numpy pandas matplotlib scikit-learn torch torchvision torchaudio pytorch-lightning wandb rich ipywidgets tabulate tqdm"
      ]
    },
    {
      "cell_type": "code",
      "source": [],
      "metadata": {
        "id": "xElnmLfhXFb5"
      },
      "execution_count": 1,
      "outputs": []
    },
    {
      "cell_type": "code",
      "source": [
        "import os\n",
        "import pandas as pd\n",
        "import numpy as np\n",
        "from tabulate import tabulate\n",
        "from sklearn.model_selection import train_test_split\n",
        "from sklearn.preprocessing import StandardScaler\n",
        "from sklearn.linear_model import LogisticRegression\n",
        "from sklearn.metrics import (\n",
        "    balanced_accuracy_score,\n",
        "    precision_score,\n",
        "    recall_score,\n",
        "    f1_score\n",
        ")\n",
        "import torch\n",
        "import torch.nn as nn\n",
        "from torch.utils.data import Dataset, DataLoader\n",
        "from torch.nn.utils.rnn import pad_sequence\n",
        "import pytorch_lightning as pl\n",
        "from pytorch_lightning.callbacks import (\n",
        "    ModelCheckpoint,\n",
        "    EarlyStopping,\n",
        "    LearningRateMonitor,\n",
        "    RichProgressBar\n",
        ")\n",
        "from pytorch_lightning.loggers import WandbLogger\n",
        "from tqdm import tqdm\n",
        "from huggingface_hub import snapshot_download, hf_hub_download\n",
        "import zipfile\n",
        "import shutil"
      ],
      "metadata": {
        "id": "35LOUEVm-zpV"
      },
      "execution_count": 2,
      "outputs": []
    },
    {
      "cell_type": "code",
      "source": [
        "# download the compute_cost.py file\n",
        "pyfile_path = hf_hub_download(\n",
        "    repo_id=\"fschmid56/mlpc2025_dataset\",\n",
        "    filename=\"compute_cost.py\",\n",
        "    repo_type=\"dataset\"\n",
        ")\n",
        "\n",
        "# move to current working directory (/content)\n",
        "shutil.copy(pyfile_path, os.getcwd() + \"/compute_cost.py\")\n",
        "\n",
        "# import required functions\n",
        "from compute_cost import CLASSES as TARGET_CLASSES\n",
        "from compute_cost import (\n",
        "    aggregate_targets,\n",
        "    get_ground_truth_df,\n",
        "    get_segment_prediction_df,\n",
        "    check_dataframe,\n",
        "    total_cost\n",
        ")"
      ],
      "metadata": {
        "colab": {
          "base_uri": "https://localhost:8080/",
          "height": 153,
          "referenced_widgets": [
            "93425df3036e40238da84df7ef501005",
            "b41d93eab32f4497b3f2bdd794a086a5",
            "1f7057abdfdf42328e539a5e4439f90d",
            "fa333fbe7057489fb0218e4a3e56dbba",
            "1dfadf9a529247dba2b2a37598b8d3e9",
            "ec78ba68bd7e441080b8a673607397f9",
            "f153c58d3f6f4c89b236d136fab76b44",
            "9f3a76f4ee65454eaa4128b7b3746a4b",
            "c30a94469a734f9ca6081d85ed6664ee",
            "97ce579af2e747bb8fe2ee91eb069bc3",
            "88db67db01334f67b0f39adb70c03a87"
          ]
        },
        "id": "VhtEx4U1-1VY",
        "outputId": "b066e803-03d7-4b46-f58e-ad9c672c90ef"
      },
      "execution_count": 3,
      "outputs": [
        {
          "output_type": "stream",
          "name": "stderr",
          "text": [
            "/usr/local/lib/python3.11/dist-packages/huggingface_hub/utils/_auth.py:94: UserWarning: \n",
            "The secret `HF_TOKEN` does not exist in your Colab secrets.\n",
            "To authenticate with the Hugging Face Hub, create a token in your settings tab (https://huggingface.co/settings/tokens), set it as secret in your Google Colab and restart your session.\n",
            "You will be able to reuse this secret in all of your notebooks.\n",
            "Please note that authentication is recommended but still optional to access public models or datasets.\n",
            "  warnings.warn(\n"
          ]
        },
        {
          "output_type": "display_data",
          "data": {
            "text/plain": [
              "compute_cost.py:   0%|          | 0.00/9.95k [00:00<?, ?B/s]"
            ],
            "application/vnd.jupyter.widget-view+json": {
              "version_major": 2,
              "version_minor": 0,
              "model_id": "93425df3036e40238da84df7ef501005"
            }
          },
          "metadata": {}
        }
      ]
    },
    {
      "cell_type": "code",
      "source": [
        "# Step 1: Download the ZIP file from HF Hub\n",
        "zip_path = hf_hub_download(\n",
        "    repo_id=\"fschmid56/mlpc2025_dataset\",   # your dataset repo\n",
        "    filename=\"mlpc2025_dataset.zip\",        # your uploaded ZIP file\n",
        "    repo_type=\"dataset\"                     # specify that it's a dataset repo\n",
        ")\n",
        "\n",
        "print(f\"✅ ZIP downloaded: {zip_path}\")"
      ],
      "metadata": {
        "colab": {
          "base_uri": "https://localhost:8080/",
          "height": 66,
          "referenced_widgets": [
            "13c1454ee6354ae7895409a87bdac657",
            "ff7b60a18a0f49589301a2f38b52d741",
            "12e160f8470447688a097f62272c70a4",
            "0949d71ec64a4bd6acd09104929ab2c9",
            "d8b7402092e54c83baa37021aae4edd5",
            "eda8a9986581469fa950a734ce2b6c35",
            "c33eaa05450d41f49229c2a217d8f69c",
            "f26fed32d30744758cd55e9df60238c1",
            "a3ee086680964420894fc18ebb1f7ea3",
            "92ba60dc21d047dabc991012d6399255",
            "cf2efe51128743c8a5d20d0e87516bef"
          ]
        },
        "id": "PPFrQD7O-3yM",
        "outputId": "2abe14c2-ac96-4c99-dc15-f9e1fe07e306"
      },
      "execution_count": 4,
      "outputs": [
        {
          "output_type": "display_data",
          "data": {
            "text/plain": [
              "mlpc2025_dataset.zip:   0%|          | 0.00/8.71G [00:00<?, ?B/s]"
            ],
            "application/vnd.jupyter.widget-view+json": {
              "version_major": 2,
              "version_minor": 0,
              "model_id": "13c1454ee6354ae7895409a87bdac657"
            }
          },
          "metadata": {}
        },
        {
          "output_type": "stream",
          "name": "stdout",
          "text": [
            "✅ ZIP downloaded: /root/.cache/huggingface/hub/datasets--fschmid56--mlpc2025_dataset/snapshots/5ecbfd8531c18fbb4fa60b79eacdf585b1f1aac4/mlpc2025_dataset.zip\n"
          ]
        }
      ]
    },
    {
      "cell_type": "code",
      "source": [
        "# Step 2: Extract the ZIP\n",
        "extract_path = \"/content/mlpc2025_dataset\"\n",
        "os.makedirs(extract_path, exist_ok=True)\n",
        "\n",
        "# Check if already extracted\n",
        "if not os.path.exists(os.path.join(extract_path, \"data\")):  # assuming 'data/' is inside the zip\n",
        "    with zipfile.ZipFile(zip_path, 'r') as zip_ref:\n",
        "        zip_ref.extractall(extract_path)\n",
        "    print(f\"✅ Dataset extracted to {extract_path}\")\n",
        "else:\n",
        "    print(f\"✅ Dataset already extracted at {extract_path}\")"
      ],
      "metadata": {
        "colab": {
          "base_uri": "https://localhost:8080/"
        },
        "id": "AaOaQ9YZ-5rz",
        "outputId": "4fdd6612-5dd5-4ed0-de27-93bbdc08b448"
      },
      "execution_count": 5,
      "outputs": [
        {
          "output_type": "stream",
          "name": "stdout",
          "text": [
            "✅ Dataset extracted to /content/mlpc2025_dataset\n"
          ]
        }
      ]
    },
    {
      "cell_type": "code",
      "source": [
        "# Step 3: Set your DATASET_PATH\n",
        "DATASET_PATH = os.path.join(extract_path, \"data\")  # because you zipped the 'data' folder\n",
        "print(f\"✅ DATASET_PATH set to {DATASET_PATH}\")\n",
        "\n",
        "# Quick check\n",
        "print(\"Files in DATASET_PATH:\", os.listdir(DATASET_PATH))"
      ],
      "metadata": {
        "colab": {
          "base_uri": "https://localhost:8080/"
        },
        "id": "r1oIGbj9-7YY",
        "outputId": "ad1184aa-13df-45cf-d508-16d2419dc6a6"
      },
      "execution_count": 6,
      "outputs": [
        {
          "output_type": "stream",
          "name": "stdout",
          "text": [
            "✅ DATASET_PATH set to /content/mlpc2025_dataset/data\n",
            "Files in DATASET_PATH: ['metadata.csv', '.cache', 'audio_features', 'customer_test_data', 'labels', 'annotations.csv', 'audio']\n"
          ]
        }
      ]
    },
    {
      "cell_type": "code",
      "source": [
        "METADATA_CSV = os.path.join(DATASET_PATH, 'metadata.csv')\n",
        "ANNOTATIONS_CSV = os.path.join(DATASET_PATH, 'annotations.csv')\n",
        "AUDIO_DIR = os.path.join(DATASET_PATH, 'audio')\n",
        "AUDIO_FEATURES_DIR = os.path.join(DATASET_PATH, 'audio_features')\n",
        "LABELS_DIR = os.path.join(DATASET_PATH, 'labels')\n",
        "\n",
        "METADATA = pd.read_csv(METADATA_CSV)\n",
        "DEV_SET_FILES = METADATA['filename']\n",
        "\n",
        "CUSTOMER_DATASET_PATH = os.path.join(DATASET_PATH, 'customer_test_data')\n",
        "CUSTOMER_AUDIO_DIR = os.path.join(CUSTOMER_DATASET_PATH, 'audio')\n",
        "CUSTOMER_AUDIO_FEATURES_DIR = os.path.join(CUSTOMER_DATASET_PATH, 'audio_features')\n",
        "CUSTOMER_METADATA_CSV = os.path.join(CUSTOMER_DATASET_PATH, 'metadata.csv')\n",
        "CUSTOMER_METADATA = pd.read_csv(CUSTOMER_METADATA_CSV)\n",
        "\n",
        "DATA_SUBSAMPLE = 3000  # works with available RAM in Colab"
      ],
      "metadata": {
        "id": "p3UHYrbe-9QL"
      },
      "execution_count": 7,
      "outputs": []
    },
    {
      "cell_type": "code",
      "source": [
        "def read_files(file_names, classes, features_dir=AUDIO_FEATURES_DIR, labels_dir=LABELS_DIR):\n",
        "    \"\"\"\n",
        "    Loads features and binary labels for a list of files.\n",
        "\n",
        "    Returns:\n",
        "        X: list of np.ndarrays, each of shape (num_frames, num_features)\n",
        "        Y: dict of lists of np.ndarrays, each of shape (num_frames,)\n",
        "    \"\"\"\n",
        "    X = []\n",
        "    Y = {c: [] for c in classes} if labels_dir is not None else None\n",
        "\n",
        "    for fname in file_names:\n",
        "        base = os.path.splitext(fname)[0]\n",
        "\n",
        "        # Load features\n",
        "        feat_path = os.path.join(features_dir, base + '.npz')\n",
        "        features = np.load(feat_path)['embeddings']  # shape: (T, D)\n",
        "        X.append(features)\n",
        "\n",
        "        if labels_dir is not None:\n",
        "            # Load labels\n",
        "            label_path = os.path.join(labels_dir, base + '_labels.npz')\n",
        "            labels = np.load(label_path)\n",
        "\n",
        "            for c in classes:\n",
        "                label_array = labels[c]  # shape: (T, num_annotators)\n",
        "                binary_labels = (np.max(label_array, axis=1) > 0).astype(int)\n",
        "                Y[c].append(binary_labels)  # shape: (T,)\n",
        "\n",
        "    return X, Y"
      ],
      "metadata": {
        "id": "QEr9eBuY--y0"
      },
      "execution_count": 8,
      "outputs": []
    },
    {
      "cell_type": "code",
      "source": [
        "# Get filenames for split based on filenames\n",
        "all_files = DEV_SET_FILES.unique()\n",
        "\n",
        "# First split: 60% train, 40% temp (val + test)\n",
        "train_files, temp_files = train_test_split(\n",
        "    all_files, test_size=0.4, random_state=42, shuffle=True\n",
        ")\n",
        "\n",
        "# Second split: 50% val, 50% test from the remaining 40%\n",
        "val_files, test_files = train_test_split(\n",
        "    temp_files, test_size=0.5, random_state=42, shuffle=True\n",
        ")\n",
        "\n",
        "train_files = train_files[:DATA_SUBSAMPLE]\n",
        "\n",
        "print(f\"Train: {len(train_files)}, Val: {len(val_files)}, Test: {len(test_files)}\")\n",
        "\n",
        "# Load features and labels\n",
        "X_train, Y_train = read_files(train_files, TARGET_CLASSES)\n",
        "X_val, Y_val = read_files(val_files, TARGET_CLASSES)\n",
        "X_test, Y_test = read_files(test_files, TARGET_CLASSES)"
      ],
      "metadata": {
        "colab": {
          "base_uri": "https://localhost:8080/"
        },
        "id": "N4PKTTQd_AmX",
        "outputId": "a87020ca-37c2-4118-b384-bba9d632483d"
      },
      "execution_count": 17,
      "outputs": [
        {
          "output_type": "stream",
          "name": "stdout",
          "text": [
            "Train: 3000, Val: 1646, Test: 1646\n"
          ]
        }
      ]
    },
    {
      "cell_type": "code",
      "source": [
        "# Flatten: Each frame is a sample\n",
        "def flatten_for_framewise_classification(X, Y_class):\n",
        "    X_flat = np.concatenate(X)  # shape: (total_frames, num_features)\n",
        "    Y_flat = np.concatenate(Y_class)  # shape: (total_frames,)\n",
        "    return X_flat, Y_flat"
      ],
      "metadata": {
        "id": "_h47BpmP_CBI"
      },
      "execution_count": 11,
      "outputs": []
    },
    {
      "cell_type": "code",
      "source": [
        "def evaluate_classifiers(\n",
        "    classes: list[str],\n",
        "    Y_val: dict[str, list[np.ndarray]],\n",
        "    X_val: list[np.ndarray] = None,\n",
        "    inference_funcs: dict[str, callable] = None,\n",
        "    Y_pred: dict[str, list[np.ndarray]] = None\n",
        ") -> tuple[dict[str, list[np.ndarray]], dict[str, dict]]:\n",
        "    \"\"\"\n",
        "    Evaluates per-frame binary classifiers and computes metrics per class.\n",
        "    Uses either computed predictions or given inference functions.\n",
        "\n",
        "    Args:\n",
        "        classes: List of class names to evaluate.\n",
        "        Y_val: Dict mapping class names to lists of ground-truth (T,) binary arrays.\n",
        "        X_val: List of input feature arrays, one per validation file. Required if Y_pred not given.\n",
        "        inference_funcs: Dict mapping class names to binary inference functions.\n",
        "        Y_pred: Dict with precomputed predictions (same format as Y_val).\n",
        "\n",
        "    Returns:\n",
        "        metrics: Dict[class → {'balanced_accuracy', 'precision', 'recall', 'f1'}].\n",
        "    \"\"\"\n",
        "\n",
        "    if Y_pred is None:\n",
        "        assert inference_funcs is not None and X_val is not None, \"If 'Y_pred' is not given, 'inference_funcs' \\\n",
        "                                                                    and 'X_val' must be given.\"\n",
        "\n",
        "    Y_val_preds = {}\n",
        "    metrics     = {}\n",
        "\n",
        "    for cls in classes:\n",
        "        # use predictions if given, else infer\n",
        "        if Y_pred and cls in Y_pred:\n",
        "            preds_per_file = Y_pred[cls]\n",
        "        else:\n",
        "            infer = inference_funcs[cls]\n",
        "            preds_per_file = [infer(x_file) for x_file in X_val]\n",
        "        Y_val_preds[cls] = preds_per_file\n",
        "\n",
        "        # flatten to compute metrics\n",
        "        y_true = np.concatenate(Y_val[cls])\n",
        "        y_pred = np.concatenate(preds_per_file)\n",
        "\n",
        "        metrics[cls] = {\n",
        "            \"balanced_accuracy\": balanced_accuracy_score(y_true, y_pred),\n",
        "            \"precision\":         precision_score(y_true, y_pred, zero_division=0),\n",
        "            \"recall\":            recall_score(y_true, y_pred, zero_division=0),\n",
        "            \"f1\":                f1_score(y_true, y_pred, zero_division=0),\n",
        "        }\n",
        "\n",
        "    return metrics"
      ],
      "metadata": {
        "id": "1wBCGA87_Dk8"
      },
      "execution_count": 12,
      "outputs": []
    },
    {
      "cell_type": "code",
      "source": [
        "def evaluate_cost(\n",
        "    val_files: list[str],\n",
        "    dataset_path: str,\n",
        "    classes: list[str],\n",
        "    X_val: list[np.ndarray] = None,\n",
        "    inference_funcs: dict[str, callable] = None,\n",
        "    Y_pred: dict[str, list[np.ndarray]] = None\n",
        "):\n",
        "    \"\"\"\n",
        "    Computes segment-level cost based on predictions and ground truth.\n",
        "    Uses either computed predictions or given inference functions.\n",
        "\n",
        "    Args:\n",
        "        val_files: List of filenames corresponding to X_val.\n",
        "        dataset_path: Path to dataset root (used for loading ground truth).\n",
        "        classes: List of class names to evaluate.\n",
        "        X_val: List of input feature arrays, one per validation file. Required if Y_pred not given.\n",
        "        inference_funcs: Dict mapping class names to binary inference functions.\n",
        "        Y_pred: Dict with precomputed predictions (class → list of (T,) arrays).\n",
        "\n",
        "    Returns:\n",
        "        total: Total cost across all validation files.\n",
        "        breakdown: Dict[class → segment-level cost].\n",
        "    \"\"\"\n",
        "\n",
        "    if Y_pred is None:\n",
        "        assert inference_funcs is not None and X_val is not None, \"If 'Y_pred' is not given, 'inference_funcs' \\\n",
        "                                                                    and 'X_val' must be given.\"\n",
        "\n",
        "    # 0) frame-wise predictions (per class)\n",
        "    if Y_pred is None:\n",
        "        Y_pred = {\n",
        "            cls: [infer(x_file) for x_file in X_val]\n",
        "            for cls, infer in inference_funcs.items()\n",
        "        }\n",
        "\n",
        "    # 1) restructure to filename -> class -> (T,) array\n",
        "    preds_by_file = {}\n",
        "    for i, fname in enumerate(val_files):\n",
        "        preds_by_file[fname] = {\n",
        "            cls: Y_pred[cls][i] for cls in classes\n",
        "        }\n",
        "\n",
        "    # 2) segment-level aggregation using compute_cost\n",
        "    pred_df = get_segment_prediction_df(\n",
        "        predictions=preds_by_file,\n",
        "        class_names=classes\n",
        "    )\n",
        "\n",
        "    # 3) load & aggregate ground truth using compute_cost\n",
        "    gt_df = get_ground_truth_df(val_files, dataset_path)\n",
        "\n",
        "    # 4) sanity checks from compute_cost\n",
        "    check_dataframe(pred_df, dataset_path)\n",
        "    check_dataframe(gt_df, dataset_path)\n",
        "\n",
        "    # 5) compute cost\n",
        "    total, breakdown = total_cost(pred_df, gt_df)\n",
        "\n",
        "    return total, breakdown"
      ],
      "metadata": {
        "id": "SeplEhg__FsD"
      },
      "execution_count": 13,
      "outputs": []
    },
    {
      "cell_type": "code",
      "source": [
        "def majority_vote_baseline(Y_train_dict, classes, threshold=0.5):\n",
        "    \"\"\"\n",
        "    Creates a naive baseline based on majority class frequency per label.\n",
        "\n",
        "    Returns:\n",
        "        inference_funcs: Dict[class → function that returns fixed prediction]\n",
        "    \"\"\"\n",
        "    inference_funcs = {}\n",
        "\n",
        "    for cls in classes:\n",
        "        y_flat = np.concatenate(Y_train_dict[cls])\n",
        "        freq = y_flat.mean()  # Fraction of positives\n",
        "\n",
        "        print(f\"Class: {cls}, Pos. Freq: {freq:.4f}\")\n",
        "\n",
        "        # Always predict 1 if positive frequency exceeds threshold, else 0\n",
        "        prediction = 1 if freq > threshold else 0\n",
        "        inference_funcs[cls] = lambda x_seq, val=prediction: np.full(x_seq.shape[0], val, dtype=int)\n",
        "\n",
        "    return inference_funcs\n",
        "\n",
        "inference_funcs = majority_vote_baseline(Y_train, TARGET_CLASSES)"
      ],
      "metadata": {
        "colab": {
          "base_uri": "https://localhost:8080/"
        },
        "id": "4tn7c7e8EZY-",
        "outputId": "2c5a80e7-89c0-4a84-f757-2a618eed9fee"
      },
      "execution_count": 15,
      "outputs": [
        {
          "output_type": "stream",
          "name": "stdout",
          "text": [
            "Class: Speech, Pos. Freq: 0.0862\n",
            "Class: Shout, Pos. Freq: 0.0173\n",
            "Class: Chainsaw, Pos. Freq: 0.0092\n",
            "Class: Jackhammer, Pos. Freq: 0.0081\n",
            "Class: Lawn Mower, Pos. Freq: 0.0086\n",
            "Class: Power Drill, Pos. Freq: 0.0226\n",
            "Class: Dog Bark, Pos. Freq: 0.0202\n",
            "Class: Rooster Crow, Pos. Freq: 0.0023\n",
            "Class: Horn Honk, Pos. Freq: 0.0149\n",
            "Class: Siren, Pos. Freq: 0.0253\n"
          ]
        }
      ]
    },
    {
      "cell_type": "code",
      "source": [
        "# metrics for most-frequent label baseline\n",
        "val_metrics = evaluate_classifiers(\n",
        "    classes=TARGET_CLASSES,\n",
        "    X_val=X_val,\n",
        "    Y_val=Y_val,\n",
        "    inference_funcs=inference_funcs\n",
        ")\n",
        "\n",
        "df = pd.DataFrame(val_metrics).T.round(3)\n",
        "df.columns = [\"BAcc\", \"Precision\", \"Recall\", \"F1\"]\n",
        "print(tabulate(df, headers='keys', tablefmt='github'))"
      ],
      "metadata": {
        "colab": {
          "base_uri": "https://localhost:8080/"
        },
        "id": "8bruNhtD_HXw",
        "outputId": "736bf233-3789-443a-b74b-6b2cb9ee3d34"
      },
      "execution_count": 18,
      "outputs": [
        {
          "output_type": "stream",
          "name": "stdout",
          "text": [
            "|              |   BAcc |   Precision |   Recall |   F1 |\n",
            "|--------------|--------|-------------|----------|------|\n",
            "| Speech       |    0.5 |           0 |        0 |    0 |\n",
            "| Shout        |    0.5 |           0 |        0 |    0 |\n",
            "| Chainsaw     |    0.5 |           0 |        0 |    0 |\n",
            "| Jackhammer   |    0.5 |           0 |        0 |    0 |\n",
            "| Lawn Mower   |    0.5 |           0 |        0 |    0 |\n",
            "| Power Drill  |    0.5 |           0 |        0 |    0 |\n",
            "| Dog Bark     |    0.5 |           0 |        0 |    0 |\n",
            "| Rooster Crow |    0.5 |           0 |        0 |    0 |\n",
            "| Horn Honk    |    0.5 |           0 |        0 |    0 |\n",
            "| Siren        |    0.5 |           0 |        0 |    0 |\n"
          ]
        }
      ]
    },
    {
      "cell_type": "code",
      "source": [
        "# cost for most-frequent label baseline\n",
        "total, breakdown = evaluate_cost(\n",
        "    val_files=val_files,\n",
        "    dataset_path=DATASET_PATH,\n",
        "    classes=TARGET_CLASSES,\n",
        "    X_val=X_val,\n",
        "    inference_funcs=inference_funcs\n",
        ")\n",
        "\n",
        "df = pd.DataFrame({cls: {\"Avg. Cost per minute\": round(m[\"cost\"], 4)} for cls, m in breakdown.items()}).T\n",
        "print(f\"Total average cost per minute: {total:.4f}\\n\")\n",
        "print(tabulate(df, headers=\"keys\", tablefmt=\"github\"))"
      ],
      "metadata": {
        "colab": {
          "base_uri": "https://localhost:8080/"
        },
        "id": "xjFnhpeg_MrM",
        "outputId": "9370e684-e292-4b7c-dd10-e0d2891fe4c7"
      },
      "execution_count": 19,
      "outputs": [
        {
          "output_type": "stream",
          "name": "stdout",
          "text": [
            "Total average cost per minute: 108.8553\n",
            "\n",
            "|              |   Avg. Cost per minute |\n",
            "|--------------|------------------------|\n",
            "| Speech       |                24.8092 |\n",
            "| Shout        |                 9.4118 |\n",
            "| Chainsaw     |                 6.6057 |\n",
            "| Jackhammer   |                 7.4642 |\n",
            "| Lawn Mower   |                 7.7266 |\n",
            "| Power Drill  |                14.2369 |\n",
            "| Dog Bark     |                 7.0986 |\n",
            "| Rooster Crow |                 0.3816 |\n",
            "| Horn Honk    |                12.7107 |\n",
            "| Siren        |                18.4102 |\n"
          ]
        }
      ]
    }
  ]
}