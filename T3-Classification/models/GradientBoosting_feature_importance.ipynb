{
 "cells": [
  {
   "cell_type": "code",
   "execution_count": 1,
   "id": "7d895471-8693-42d0-9ca9-168c17b125c5",
   "metadata": {},
   "outputs": [],
   "source": [
    "import numpy as np\n",
    "import pandas as pd\n",
    "import os "
   ]
  },
  {
   "cell_type": "code",
   "execution_count": 2,
   "id": "2762d2d7-cc02-4913-ac8d-eea19e3d1f7e",
   "metadata": {},
   "outputs": [],
   "source": [
    "categories = ['Airplane', 'Alarm', 'Beep/Bleep', 'Bell', 'Bicycle', 'Bird Chirp', 'Bus', 'Car', 'Cat Meow',\n",
    "        'Chainsaw', 'Clapping', 'Cough', 'Cow Moo', 'Cowbell', 'Crying', 'Dog Bark', 'Doorbell', 'Drip',\n",
    "        'Drums', 'Fire', 'Footsteps', 'Guitar', 'Hammer', 'Helicopter', 'Hiccup', 'Horn Honk', 'Horse Neigh',\n",
    "        'Insect Buzz', 'Jackhammer', 'Laughter', 'Lawn Mower', 'Motorcycle', 'Piano', 'Pig Oink', 'Power Drill',\n",
    "        'Power Saw', 'Rain', 'Rooster Crow', 'Saxophone', 'Sewing Machine', 'Sheep/Goat Bleat', 'Ship/Boat',\n",
    "        'Shout', 'Singing', 'Siren', 'Sneeze', 'Snoring', 'Speech', 'Stream/River', 'Thunder', 'Train', 'Truck',\n",
    "        'Trumpet', 'Vacuum Cleaner', 'Violin', 'Washing Machine', 'Waves', 'Wind']"
   ]
  },
  {
   "cell_type": "markdown",
   "id": "43ef92ea-608a-413b-9ba3-85bdf8d17071",
   "metadata": {},
   "source": [
    "we split dataset: 70%, 20%, 10%"
   ]
  },
  {
   "cell_type": "code",
   "execution_count": 3,
   "id": "8c29c16b-9ba0-4ecb-b418-7a3b197e54f9",
   "metadata": {},
   "outputs": [],
   "source": [
    "ann_df = pd.read_csv(\n",
    "    'annotations.csv'\n",
    ")\n",
    "meta_df = pd.read_csv(\n",
    "    'metadata.csv'\n",
    ")\n",
    "ann_df.shape\n",
    "\n",
    "features_dir = \"audio_features\"\n",
    "labels_dir = \"labels\""
   ]
  },
  {
   "cell_type": "code",
   "execution_count": 4,
   "id": "4c915d80-7298-4291-91e4-5de936ab967e",
   "metadata": {},
   "outputs": [
    {
     "data": {
      "text/plain": [
       "'277070.mp3'"
      ]
     },
     "execution_count": 4,
     "metadata": {},
     "output_type": "execute_result"
    }
   ],
   "source": [
    "train_filename = meta_df.sample(len(meta_df),random_state=42)['filename'].unique()[:int(len(meta_df)*0.7)]\n",
    "validation_filename = meta_df.sample(len(meta_df),random_state=42)['filename'].unique()[int(len(meta_df)*0.7):int(len(meta_df)*0.9)]\n",
    "test_filename = meta_df.sample(len(meta_df),random_state=42)['filename'].unique()[int(len(meta_df)*0.9):len(meta_df)]\n",
    "\n",
    "train_filename[0]\n"
   ]
  },
  {
   "cell_type": "code",
   "execution_count": 5,
   "id": "c7643fc6-d7f8-4659-b3a4-ccbb3a27c486",
   "metadata": {},
   "outputs": [],
   "source": [
    "def aggregate_labels(file_labels):\n",
    "    __y = []\n",
    "    for frame_labels in file_labels:\n",
    "        if(sum(frame_labels) == 0):\n",
    "            __y.append([0])\n",
    "        elif(np.count_nonzero(frame_labels) == len(frame_labels)):\n",
    "             __y.append([1])\n",
    "        else: #The annotators don't agree on the label\n",
    "            __y.append([np.random.choice(frame_labels)])\n",
    "    return __y"
   ]
  },
  {
   "cell_type": "code",
   "execution_count": 6,
   "id": "b8117194-cb26-4b2b-8019-f2725264ef9c",
   "metadata": {},
   "outputs": [],
   "source": [
    "import numpy as np\n",
    "from sklearn.decomposition import PCA\n",
    "\n",
    "import numpy as np\n",
    "\n",
    "def pad_embeddings(embeddings_list, max_len=None, pad_value=0):\n",
    "    lengths = [emb.shape[0] for emb in embeddings_list]\n",
    "    max_len = max_len or max(lengths)\n",
    "    feature_dim = embeddings_list[0].shape[1]\n",
    "    \n",
    "    padded = np.full((len(embeddings_list), max_len, feature_dim), pad_value, dtype=embeddings_list[0].dtype)\n",
    "    \n",
    "    for i, emb in enumerate(embeddings_list):\n",
    "        length = emb.shape[0]\n",
    "        padded[i, :length, :] = emb  # copy original embedding into padded array\n",
    "    \n",
    "    return padded, lengths\n",
    "\n",
    "def pca25(filenames):\n",
    "    reduced_embeddings = []\n",
    "    for filename in filenames:\n",
    "        path = os.path.join(features_dir, filename.split('.')[0] + '.npz')\n",
    "        embedding = np.load(path)[\"embeddings\"]\n",
    "        embedding = np.squeeze(embedding)\n",
    "\n",
    "        \n",
    "        pca = PCA(25)\n",
    "        low_dim_emb = pca.fit_transform(embedding) \n",
    "        reduced_embeddings.append(low_dim_emb)\n",
    "\n",
    "    padded_embeddings, original_lengths = pad_embeddings(reduced_embeddings)\n",
    "\n",
    "    return np.array(padded_embeddings)\n",
    "\n"
   ]
  },
  {
   "cell_type": "code",
   "execution_count": 7,
   "id": "413eef90-047e-4122-8293-2910a4244d37",
   "metadata": {},
   "outputs": [],
   "source": [
    "reduced_train_em = pca25(train_filename)\n",
    "reduced_valid_em = pca25(validation_filename)\n",
    "reduced_test_em = pca25(test_filename)\n"
   ]
  },
  {
   "cell_type": "code",
   "execution_count": 8,
   "id": "7168b654-2066-41ec-8f10-8e28280ac115",
   "metadata": {},
   "outputs": [
    {
     "data": {
      "text/plain": [
       "(5761, 250, 25)"
      ]
     },
     "execution_count": 8,
     "metadata": {},
     "output_type": "execute_result"
    }
   ],
   "source": [
    "reduced_train_em.shape"
   ]
  },
  {
   "cell_type": "code",
   "execution_count": 9,
   "id": "12adfcef-6bdc-457a-9f7d-aeef3a645bd7",
   "metadata": {},
   "outputs": [],
   "source": [
    "import itertools\n",
    "def read_files(file_names, reduced_em):\n",
    "    X_train = []\n",
    "    Y_train = {c: [] for c in categories}  # Initialize label dictionary\n",
    "    \n",
    "    for i, (f, em) in enumerate(zip(file_names, reduced_em)):\n",
    "        # Load melspectrogram and MFCC features\n",
    "        features_mel = np.load(os.path.join(features_dir, f.split('.')[0] + '.npz'))[\"melspectrogram\"]\n",
    "        features_mfcc = np.load(os.path.join(features_dir, f.split('.')[0] + '.npz'))[\"mfcc\"]\n",
    "        \n",
    "        # Get the embedding for this file (already reduced to 25 dimensions)\n",
    "        features_em = em  # This is the precomputed PCA-reduced embedding for this file\n",
    "        \n",
    "        # Pad or truncate all features to have the same number of timesteps\n",
    "        min_length = min(features_mel.shape[0], features_mfcc.shape[0], features_em.shape[0])\n",
    "        features_mel = features_mel[:min_length]\n",
    "        features_mfcc = features_mfcc[:min_length]\n",
    "        features_em = features_em[:min_length]\n",
    "        \n",
    "        # Concatenate features along feature axis (axis=1)\n",
    "        features = np.concatenate([features_mel, features_mfcc, features_em], axis=1)\n",
    "        X_train.append(features)\n",
    "        \n",
    "        # Load and process labels\n",
    "        y = np.load(os.path.join(labels_dir, f.split('.')[0] + '_labels.npz'))\n",
    "        for c in categories:\n",
    "            _y = aggregate_labels(y[c])\n",
    "            Y_train[c].extend(list(itertools.chain.from_iterable(_y))[:min_length])  # Match length\n",
    "    \n",
    "    X_train = np.concatenate(X_train)\n",
    "    return X_train, Y_train"
   ]
  },
  {
   "cell_type": "code",
   "execution_count": 10,
   "id": "b03dcf39-8553-43e7-be1a-d61842ec8c04",
   "metadata": {},
   "outputs": [],
   "source": [
    "from sklearn.preprocessing import StandardScaler\n",
    "def preprocessing(array):\n",
    "    s=StandardScaler()\n",
    "    scaled_array = s.fit_transform(array)\n",
    "    scalar =s.fit(array)\n",
    "    return scaled_array,scalar.mean_,scalar.scale_"
   ]
  },
  {
   "cell_type": "code",
   "execution_count": 11,
   "id": "cd526e12-e8b0-444c-ae32-567b1ac45377",
   "metadata": {},
   "outputs": [],
   "source": [
    "train_x,train_y_ = read_files(train_filename,reduced_train_em)\n",
    "val_x, val_y_ = read_files(validation_filename,reduced_valid_em)\n",
    "test_x, test_y_ = read_files(test_filename,reduced_test_em)"
   ]
  },
  {
   "cell_type": "code",
   "execution_count": null,
   "id": "9a7a1c94-ed07-4e89-b0a6-b0a4d060fb15",
   "metadata": {},
   "outputs": [],
   "source": []
  },
  {
   "cell_type": "code",
   "execution_count": 12,
   "id": "a2835a7a-935e-42f9-8385-25844f76cc08",
   "metadata": {},
   "outputs": [
    {
     "data": {
      "text/plain": [
       "(1078243, 121)"
      ]
     },
     "execution_count": 12,
     "metadata": {},
     "output_type": "execute_result"
    }
   ],
   "source": [
    "train_x.shape"
   ]
  },
  {
   "cell_type": "code",
   "execution_count": 13,
   "id": "513410f5-6914-4469-a3b3-ec7d8446975b",
   "metadata": {},
   "outputs": [
    {
     "name": "stdout",
     "output_type": "stream",
     "text": [
      "shape of train set:(1078243, 121), shape of val set:(305277, 121), shape of test set:(155057, 121)\n"
     ]
    }
   ],
   "source": [
    "train_x.shape\n",
    "val_x.shape\n",
    "test_x.shape\n",
    "print(f'shape of train set:{train_x.shape}, shape of val set:{val_x.shape}, shape of test set:{test_x.shape}')\n",
    "#print(f'shape of train_y set:{train_y.shape}, shape of val_y set:{val_y.shape}, shape of test_y set:{test_y.shape}')"
   ]
  },
  {
   "cell_type": "code",
   "execution_count": 14,
   "id": "6d652ee7-c0cc-47d3-9f30-a8a1111f0442",
   "metadata": {},
   "outputs": [],
   "source": [
    "scaled_train_x,mu,std =preprocessing(train_x)\n",
    "scaled_validation_x = (val_x - mu)/std\n",
    "scaled_test_x = (test_x - mu)/std"
   ]
  },
  {
   "cell_type": "markdown",
   "id": "80bf5979-d8b1-4add-8298-41a9579b3978",
   "metadata": {},
   "source": [
    "**Gradient Boosting lib**"
   ]
  },
  {
   "cell_type": "code",
   "execution_count": 15,
   "id": "30666d61-52de-408a-9f09-68e38c86f3c5",
   "metadata": {},
   "outputs": [],
   "source": [
    "categories = ['Airplane', 'Alarm', 'Beep/Bleep', 'Bell', 'Bicycle', 'Bird Chirp', 'Bus', 'Car', 'Cat Meow',\n",
    "        'Chainsaw', 'Clapping', 'Cough', 'Cow Moo', 'Cowbell', 'Crying', 'Dog Bark', 'Doorbell', 'Drip',\n",
    "        'Drums', 'Fire', 'Footsteps', 'Guitar', 'Hammer', 'Helicopter', 'Hiccup', 'Horn Honk', 'Horse Neigh',\n",
    "        'Insect Buzz', 'Jackhammer', 'Laughter', 'Lawn Mower', 'Motorcycle', 'Piano', 'Pig Oink', 'Power Drill',\n",
    "        'Power Saw', 'Rain', 'Rooster Crow', 'Saxophone', 'Sewing Machine', 'Sheep/Goat Bleat', 'Ship/Boat',\n",
    "        'Shout', 'Singing', 'Siren', 'Sneeze', 'Snoring', 'Speech', 'Stream/River', 'Thunder', 'Train', 'Truck',\n",
    "        'Trumpet', 'Vacuum Cleaner', 'Violin', 'Washing Machine', 'Waves', 'Wind']\n",
    "\n",
    "#train_y = train_y[categories].to_numpy().astype(np.int32)\n",
    "#val_y = val_y[categories].to_numpy().astype(np.int32)\n",
    "#test_y = test_y[categories].to_numpy().astype(np.int32)\n",
    "#train_y.shape\n",
    "\n",
    "train_y = np.array([train_y_[cls] for cls in categories]).T\n",
    "val_y = np.array([val_y_[cls] for cls in categories]).T\n",
    "test_y = np.array([test_y_[cls] for cls in categories]).T\n"
   ]
  },
  {
   "cell_type": "code",
   "execution_count": 16,
   "id": "32479e96-724d-4341-bccc-452ad3577628",
   "metadata": {},
   "outputs": [],
   "source": [
    "import numpy as np\n",
    "import matplotlib.pyplot as plt\n",
    "from xgboost import XGBClassifier\n",
    "from sklearn.multioutput import MultiOutputClassifier\n",
    "from sklearn.metrics import confusion_matrix, balanced_accuracy_score\n",
    "param_grid = {\n",
    "    'max_depth': [10,15,None],\n",
    "    'n_estimators': [10,50,100]\n",
    "}\n",
    "best_score = 0\n",
    "best_params = None\n",
    "best_model = None"
   ]
  },
  {
   "cell_type": "code",
   "execution_count": 20,
   "id": "92931299-c102-4338-bdea-1128cf565341",
   "metadata": {},
   "outputs": [
    {
     "name": "stdout",
     "output_type": "stream",
     "text": [
      "\n",
      "Training with max_depth=10, n_estimators=10\n"
     ]
    },
    {
     "name": "stderr",
     "output_type": "stream",
     "text": [
      "/home/abdul/miniconda3/envs/rapids-25.04/lib/python3.12/site-packages/xgboost/core.py:158: UserWarning: [23:09:07] WARNING: /home/conda/feedstock_root/build_artifacts/xgboost-split_1742531908307/work/src/common/error_msg.cc:58: Falling back to prediction using DMatrix due to mismatched devices. This might lead to higher memory usage and slower performance. XGBoost is running on: cuda:0, while the input data is on: cpu.\n",
      "Potential solutions:\n",
      "- Use a data structure that matches the device ordinal in the booster.\n",
      "- Set the device for booster before call to inplace_predict.\n",
      "\n",
      "This warning will only be shown once.\n",
      "\n",
      "  warnings.warn(smsg, UserWarning)\n"
     ]
    },
    {
     "name": "stdout",
     "output_type": "stream",
     "text": [
      "→ Macro-Averaged Balanced Accuracy: 0.5166\n",
      "\n",
      "Training with max_depth=10, n_estimators=50\n",
      "→ Macro-Averaged Balanced Accuracy: 0.5365\n",
      "\n",
      "Training with max_depth=10, n_estimators=100\n",
      "→ Macro-Averaged Balanced Accuracy: 0.5439\n",
      "\n",
      "Training with max_depth=15, n_estimators=10\n",
      "→ Macro-Averaged Balanced Accuracy: 0.5195\n",
      "\n",
      "Training with max_depth=15, n_estimators=50\n",
      "→ Macro-Averaged Balanced Accuracy: 0.5388\n",
      "\n",
      "Training with max_depth=15, n_estimators=100\n",
      "→ Macro-Averaged Balanced Accuracy: 0.5426\n",
      "\n",
      "Training with max_depth=None, n_estimators=10\n",
      "→ Macro-Averaged Balanced Accuracy: 0.5116\n",
      "\n",
      "Training with max_depth=None, n_estimators=50\n",
      "→ Macro-Averaged Balanced Accuracy: 0.5280\n",
      "\n",
      "Training with max_depth=None, n_estimators=100\n",
      "→ Macro-Averaged Balanced Accuracy: 0.5366\n",
      "\n",
      "✅ Best Parameters:\n",
      "{'max_depth': 10, 'n_estimators': 100}\n",
      "✅ Best Macro-Averaged Balanced Accuracy: 0.5439\n"
     ]
    }
   ],
   "source": [
    "for max_depth, n_estimators in itertools.product(\n",
    "    param_grid['max_depth'],\n",
    "    param_grid['n_estimators']\n",
    "):\n",
    "    print(f\"\\nTraining with max_depth={max_depth}, n_estimators={n_estimators}\")\n",
    "    \n",
    "    xgb_gpu = XGBClassifier(\n",
    "        tree_method='hist',  # enables GPU\n",
    "        device='cuda',\n",
    "        objective='binary:logistic',\n",
    "        n_estimators=n_estimators,\n",
    "        max_depth=max_depth,\n",
    "        learning_rate=0.1,\n",
    "        subsample=0.8,\n",
    "        eval_metric='logloss'\n",
    "    )\n",
    "    train_y = (train_y > 0).astype(int)\n",
    "    val_y = (val_y > 0).astype(int)\n",
    "\n",
    "    xgb_multi = MultiOutputClassifier(xgb_gpu)\n",
    "    xgb_multi.fit(scaled_train_x, train_y)\n",
    "\n",
    "    pred_y = xgb_multi.predict(scaled_validation_x)\n",
    "    n_labels = val_y.shape[1]\n",
    "    balanced_accuracies = []\n",
    "\n",
    "    for i in range(n_labels):\n",
    "        score = balanced_accuracy_score(val_y[:, i], pred_y[:, i])\n",
    "        balanced_accuracies.append(score)\n",
    "\n",
    "    macro_score = np.mean(balanced_accuracies)\n",
    "    print(f\"→ Macro-Averaged Balanced Accuracy: {macro_score:.4f}\")\n",
    "\n",
    "    if macro_score > best_score:\n",
    "        best_score = macro_score\n",
    "        best_params = {'max_depth': max_depth, 'n_estimators': n_estimators}\n",
    "        best_model = xgb_multi\n",
    "\n",
    "print(\"\\n✅ Best Parameters:\")\n",
    "print(best_params)\n",
    "print(f\"✅ Best Macro-Averaged Balanced Accuracy: {best_score:.4f}\")"
   ]
  },
  {
   "cell_type": "code",
   "execution_count": 21,
   "id": "adc6b9e5-eaa7-4d78-ad04-eab33a6d921a",
   "metadata": {},
   "outputs": [
    {
     "data": {
      "image/png": "[encoded data removed]",
      "text/plain": [
       "<Figure size 800x400 with 1 Axes>"
      ]
     },
     "metadata": {},
     "output_type": "display_data"
    }
   ],
   "source": [
    "import numpy as np\n",
    "import matplotlib.pyplot as plt\n",
    "\n",
    "# --- Extract feature importances across all label estimators ---\n",
    "importances = []\n",
    "for estimator in best_model.estimators_:\n",
    "    importances.append(estimator.feature_importances_)\n",
    "\n",
    "# Convert to NumPy array: shape (n_labels, n_features)\n",
    "importances = np.array(importances)\n",
    "\n",
    "# --- Mean importance across all labels ---\n",
    "mean_importance = importances.mean(axis=0)\n",
    "top_n = 12\n",
    "top_indices = np.argsort(mean_importance)[-top_n:][::-1]\n",
    "top_values = mean_importance[top_indices]\n",
    "\n",
    "# --- Plot ---\n",
    "plt.figure(figsize=(8, 4))\n",
    "plt.bar(range(top_n), top_values, tick_label=[f'F{i}' for i in top_indices])\n",
    "plt.title(f\"Top {top_n} Features Across All Targets (XGBoost)\")\n",
    "plt.xlabel(\"Feature Index\")\n",
    "plt.ylabel(\"Mean Importance\")\n",
    "plt.tight_layout()\n",
    "plt.show()\n"
   ]
  },
  {
   "cell_type": "code",
   "execution_count": null,
   "id": "a2f516aa-476e-4740-b59c-539aa089e62a",
   "metadata": {},
   "outputs": [],
   "source": []
  }
 ],
 "metadata": {
  "kernelspec": {
   "display_name": "Python 3 (ipykernel)",
   "language": "python",
   "name": "python3"
  },
  "language_info": {
   "codemirror_mode": {
    "name": "ipython",
    "version": 3
   },
   "file_extension": ".py",
   "mimetype": "text/x-python",
   "name": "python",
   "nbconvert_exporter": "python",
   "pygments_lexer": "ipython3",
   "version": "3.12.10"
  }
 },
 "nbformat": 4,
 "nbformat_minor": 5
}
