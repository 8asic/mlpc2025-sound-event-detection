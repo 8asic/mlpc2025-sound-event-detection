{
 "cells": [
  {
   "cell_type": "code",
   "execution_count": 1,
   "id": "04be28a9-9ba4-4416-a956-55ee0cbaafd4",
   "metadata": {},
   "outputs": [],
   "source": [
    "import numpy as np\n",
    "import pandas as pd\n",
    "import os "
   ]
  },
  {
   "cell_type": "code",
   "execution_count": 2,
   "id": "fc686267-9625-4602-af65-2d7c40428cc3",
   "metadata": {},
   "outputs": [],
   "source": [
    "categories = ['Airplane', 'Alarm', 'Beep/Bleep', 'Bell', 'Bicycle', 'Bird Chirp', 'Bus', 'Car', 'Cat Meow',\n",
    "        'Chainsaw', 'Clapping', 'Cough', 'Cow Moo', 'Cowbell', 'Crying', 'Dog Bark', 'Doorbell', 'Drip',\n",
    "        'Drums', 'Fire', 'Footsteps', 'Guitar', 'Hammer', 'Helicopter', 'Hiccup', 'Horn Honk', 'Horse Neigh',\n",
    "        'Insect Buzz', 'Jackhammer', 'Laughter', 'Lawn Mower', 'Motorcycle', 'Piano', 'Pig Oink', 'Power Drill',\n",
    "        'Power Saw', 'Rain', 'Rooster Crow', 'Saxophone', 'Sewing Machine', 'Sheep/Goat Bleat', 'Ship/Boat',\n",
    "        'Shout', 'Singing', 'Siren', 'Sneeze', 'Snoring', 'Speech', 'Stream/River', 'Thunder', 'Train', 'Truck',\n",
    "        'Trumpet', 'Vacuum Cleaner', 'Violin', 'Washing Machine', 'Waves', 'Wind']"
   ]
  },
  {
   "cell_type": "code",
   "execution_count": 3,
   "id": "71404b38-00ba-49a2-8a4e-a95c9ffa2da3",
   "metadata": {},
   "outputs": [
    {
     "data": {
      "text/plain": [
       "(27552, 9)"
      ]
     },
     "execution_count": 3,
     "metadata": {},
     "output_type": "execute_result"
    }
   ],
   "source": [
    "ann_df = pd.read_csv(\n",
    "    'annotations.csv'\n",
    ")\n",
    "meta_df = pd.read_csv(\n",
    "    'metadata.csv'\n",
    ")\n",
    "ann_df.shape\n"
   ]
  },
  {
   "cell_type": "code",
   "execution_count": 4,
   "id": "8f11e6d1-1452-4a99-bd44-2fc938101e38",
   "metadata": {},
   "outputs": [],
   "source": [
    "train_filename = meta_df.sample(len(meta_df),random_state=42)['filename'].unique()[:int(len(meta_df)*0.7)]\n",
    "validation_filename = meta_df.sample(len(meta_df),random_state=42)['filename'].unique()[int(len(meta_df)*0.7):int(len(meta_df)*0.9)]\n",
    "test_filename = meta_df.sample(len(meta_df),random_state=42)['filename'].unique()[int(len(meta_df)*0.9):len(meta_df)]\n",
    "\n",
    "\n"
   ]
  },
  {
   "cell_type": "code",
   "execution_count": 5,
   "id": "fc57b422-7add-4e26-ac51-9a123813dc89",
   "metadata": {},
   "outputs": [],
   "source": [
    "def aggregate_labels(file_labels):\n",
    "    __y = []\n",
    "    for frame_labels in file_labels:\n",
    "        if(sum(frame_labels) == 0):\n",
    "            __y.append([0])\n",
    "        elif(np.count_nonzero(frame_labels) == len(frame_labels)):\n",
    "             __y.append([1])\n",
    "        else: #The annotators don't agree on the label\n",
    "            __y.append([np.random.choice(frame_labels)])\n",
    "    return __y"
   ]
  },
  {
   "cell_type": "code",
   "execution_count": 6,
   "id": "ee075e36-ef11-4985-ada6-54b5c6773d8f",
   "metadata": {},
   "outputs": [],
   "source": [
    "features_dir = \"audio_features\"\n",
    "labels_dir = \"labels\"\n",
    "\n",
    "import itertools\n",
    "def read_files(file_names):\n",
    "    X_train = []\n",
    "    Y_train = {c: [] for c in categories}  # Initialize label dictionary\n",
    "    \n",
    "    for f in file_names:\n",
    "        # Load melspectrogram and MFCC features\n",
    "        features_mel = np.load(os.path.join(features_dir, f.split('.')[0] + '.npz'))[\"melspectrogram\"]\n",
    "        features_mfcc = np.load(os.path.join(features_dir, f.split('.')[0] + '.npz'))[\"mfcc\"]\n",
    "        \n",
    "        \n",
    "        # Pad or truncate all features to have the same number of timesteps\n",
    "        min_length = min(features_mel.shape[0], features_mfcc.shape[0])\n",
    "        features_mel = features_mel[:min_length]\n",
    "        features_mfcc = features_mfcc[:min_length]\n",
    "        \n",
    "        # Concatenate features along feature axis (axis=1)\n",
    "        features = np.concatenate([features_mel, features_mfcc], axis=1)\n",
    "        X_train.append(features)\n",
    "        \n",
    "        # Load and process labels\n",
    "        y = np.load(os.path.join(labels_dir, f.split('.')[0] + '_labels.npz'))\n",
    "        for c in categories:\n",
    "            _y = aggregate_labels(y[c])\n",
    "            Y_train[c].extend(list(itertools.chain.from_iterable(_y))[:min_length])  # Match length\n",
    "    \n",
    "    X_train = np.concatenate(X_train)\n",
    "    return X_train, Y_train"
   ]
  },
  {
   "cell_type": "code",
   "execution_count": 7,
   "id": "54c1c631-32da-416f-b615-55964230d722",
   "metadata": {},
   "outputs": [],
   "source": [
    "from sklearn.preprocessing import StandardScaler\n",
    "def preprocessing(array):\n",
    "    s=StandardScaler()\n",
    "    scaled_array = s.fit_transform(array)\n",
    "    scalar =s.fit(array)\n",
    "    return scaled_array,scalar.mean_,scalar.scale_"
   ]
  },
  {
   "cell_type": "code",
   "execution_count": 8,
   "id": "b21a081e-db45-47c6-b52c-41483804a995",
   "metadata": {},
   "outputs": [],
   "source": [
    "train_x,train_y = read_files(train_filename)\n",
    "val_x, val_y = read_files(validation_filename)\n",
    "test_x, test_y = read_files(test_filename)"
   ]
  },
  {
   "cell_type": "code",
   "execution_count": 9,
   "id": "8fb0ce06-3400-4f09-938d-c7a127677dba",
   "metadata": {},
   "outputs": [],
   "source": [
    "scaled_train_x,mu,std =preprocessing(train_x)\n",
    "scaled_validation_x = (val_x - mu)/std\n",
    "scaled_test_x = (test_x - mu)/std"
   ]
  },
  {
   "cell_type": "code",
   "execution_count": 10,
   "id": "b233814b-7e49-465b-98f0-d1f79f479746",
   "metadata": {},
   "outputs": [
    {
     "data": {
      "text/plain": [
       "(1078243, 58)"
      ]
     },
     "execution_count": 10,
     "metadata": {},
     "output_type": "execute_result"
    }
   ],
   "source": [
    "train_y = np.array([train_y[cls] for cls in categories]).T\n",
    "val_y = np.array([val_y[cls] for cls in categories]).T\n",
    "test_y = np.array([test_y[cls] for cls in categories]).T\n",
    "train_y.shape"
   ]
  },
  {
   "cell_type": "code",
   "execution_count": 49,
   "id": "ce3f7ac9-452e-42ff-8ecc-68ed9f6e215b",
   "metadata": {},
   "outputs": [],
   "source": [
    "import torch\n",
    "import torch.nn as nn\n",
    "\n",
    "class LSTMAED(nn.Module):\n",
    "    def __init__(self, input_dim, hidden_dim, num_classes, num_layers=2, dropout=0.3,bidirectional=False):\n",
    "        super(LSTMAED, self).__init__()\n",
    "        self.bilstm = nn.LSTM(\n",
    "            input_size=input_dim,\n",
    "            hidden_size=hidden_dim,\n",
    "            num_layers=num_layers,\n",
    "            batch_first=True,\n",
    "            bidirectional=bidirectional,\n",
    "            dropout=dropout\n",
    "        )\n",
    "        if bidirectional is True:\n",
    "            linear= nn.Linear(hidden_dim * 2, num_classes)\n",
    "        else:\n",
    "            linear= nn.Linear(hidden_dim, num_classes)\n",
    "        self.classifier = nn.Sequential( linear)\n",
    "\n",
    "    def forward(self, x):\n",
    "        lstm_out, _ = self.bilstm(x)  \n",
    "        out = self.classifier(lstm_out)  \n",
    "        return out"
   ]
  },
  {
   "cell_type": "code",
   "execution_count": 50,
   "id": "a1e27590-9b2e-4aa3-998c-3151e05da221",
   "metadata": {},
   "outputs": [],
   "source": [
    "lstm=LSTMAED(96,128,58)\n",
    "BiLSTM=LSTMAED(96,128,58,bidirectional=True)"
   ]
  },
  {
   "cell_type": "code",
   "execution_count": 53,
   "id": "8afabef4-84d7-4788-bc8b-62fa279e56e3",
   "metadata": {},
   "outputs": [],
   "source": [
    "def train_model(model):\n",
    "    import torch\n",
    "    import torch.nn as nn\n",
    "    from torch.utils.data import DataLoader, TensorDataset\n",
    "    from torch.nn.functional import sigmoid\n",
    "\n",
    "    device = \"cuda\"\n",
    "    model.to(device)\n",
    "    criterion = nn.BCEWithLogitsLoss()\n",
    "    optimizer = torch.optim.Adam(model.parameters(), lr=1e-3)\n",
    "\n",
    "    training_loss = []\n",
    "    validation_loss = []\n",
    "\n",
    "    # Datasets\n",
    "    batch_size = 32\n",
    "    scaled_train_x_tensor = torch.tensor(scaled_train_x, dtype=torch.float32)\n",
    "    train_y_tensor = torch.tensor(train_y, dtype=torch.float32)\n",
    "    scaled_validation_x_tensor = torch.tensor(scaled_validation_x, dtype=torch.float32)\n",
    "    val_y_tensor = torch.tensor(val_y, dtype=torch.float32)\n",
    "\n",
    "    train_dataset = TensorDataset(scaled_train_x_tensor, train_y_tensor)\n",
    "    val_dataset = TensorDataset(scaled_validation_x_tensor, val_y_tensor)\n",
    "\n",
    "    train_loader = DataLoader(train_dataset, batch_size=batch_size, shuffle=True)\n",
    "    val_loader = DataLoader(val_dataset, batch_size=batch_size)\n",
    "\n",
    "    num_epochs = 6\n",
    "\n",
    "    for epoch in range(num_epochs):\n",
    "        model.train()\n",
    "        train_loss = 0.0\n",
    "        train_correct = 0\n",
    "        train_total = 0\n",
    "\n",
    "        for x_batch, y_batch in train_loader:\n",
    "            x_batch = x_batch.to(device)\n",
    "            y_batch = y_batch.to(device)\n",
    "\n",
    "            optimizer.zero_grad()\n",
    "            output = model(x_batch)\n",
    "            loss = criterion(output, y_batch)\n",
    "            loss.backward()\n",
    "            optimizer.step()\n",
    "\n",
    "            train_loss += loss.item()\n",
    "\n",
    "            preds = (sigmoid(output) > 0.5).int()\n",
    "            targets = y_batch.int()\n",
    "            train_correct += (preds == targets).sum().item()\n",
    "            train_total += targets.numel()\n",
    "\n",
    "        train_accuracy = train_correct / train_total\n",
    "        avg_train_loss = train_loss / len(train_loader)\n",
    "        training_loss.append(avg_train_loss)\n",
    "\n",
    "        # ----------- Validation and Metrics -----------\n",
    "        model.eval()\n",
    "        val_loss = 0.0\n",
    "        all_preds = []\n",
    "        all_targets = []\n",
    "\n",
    "        with torch.no_grad():\n",
    "            for x_val, y_val in val_loader:\n",
    "                x_val = x_val.to(device)\n",
    "                y_val = y_val.to(device)\n",
    "\n",
    "                val_output = model(x_val)\n",
    "                val_loss += criterion(val_output, y_val).item()\n",
    "\n",
    "                probs = sigmoid(val_output)\n",
    "                preds = (probs > 0.5).int()\n",
    "                targets = y_val.int()\n",
    "\n",
    "                all_preds.append(preds)\n",
    "                all_targets.append(targets)\n",
    "\n",
    "        avg_val_loss = val_loss / len(val_loader)\n",
    "        validation_loss.append(avg_val_loss)\n",
    "\n",
    "        # Stack predictions\n",
    "        all_preds = torch.cat(all_preds, dim=0)\n",
    "        all_targets = torch.cat(all_targets, dim=0)\n",
    "\n",
    "        # Compute metrics\n",
    "        TP = (all_preds & all_targets).sum(dim=0).float()\n",
    "        FP = ((all_preds == 1) & (all_targets == 0)).sum(dim=0).float()\n",
    "        FN = ((all_preds == 0) & (all_targets == 1)).sum(dim=0).float()\n",
    "        TN = ((all_preds == 0) & (all_targets == 0)).sum(dim=0).float()\n",
    "\n",
    "        precision = TP / (TP + FP + 1e-8)\n",
    "        recall = TP / (TP + FN + 1e-8)\n",
    "        f1 = (2 * precision * recall) / (precision + recall + 1e-8)\n",
    "        tnr = TN / (TN + FP + 1e-8)\n",
    "        balanced_acc = (recall + tnr) / 2\n",
    "\n",
    "        avg_precision = precision.mean().item()\n",
    "        avg_recall = recall.mean().item()\n",
    "        avg_f1 = f1.mean().item()\n",
    "        avg_bal_acc = balanced_acc.mean().item()\n",
    "        val_accuracy = (all_preds == all_targets).float().mean().item()\n",
    "\n",
    "        print(f\"\\nEpoch {epoch+1}/{num_epochs}\")\n",
    "        print(f\"Train Loss:                  {avg_train_loss:.4f}\")\n",
    "        print(f\"Train Accuracy:              {train_accuracy:.4f}\")\n",
    "        print(f\"Val Loss:                    {avg_val_loss:.4f}\")\n",
    "        print(f\"Validation Accuracy:         {val_accuracy:.4f}\")\n",
    "        print(f\"Precision:                   {avg_precision:.4f}\")\n",
    "        print(f\"Recall:                      {avg_recall:.4f}\")\n",
    "        print(f\"F1 Score:                    {avg_f1:.4f}\")\n",
    "        print(f\"Average Balanced Accuracy:   {avg_bal_acc:.4f}\")\n",
    "\n",
    "    # Save model\n",
    "    torch.save(model.state_dict(), 'spectrogram_transformer_weights.pth')\n",
    "    torch.save(model, 'spectrogram_transformer_full_model.pth')\n",
    "\n",
    "    return training_loss, validation_loss, {\n",
    "        \"precision\": avg_precision,\n",
    "        \"recall\": avg_recall,\n",
    "        \"f1\": avg_f1,\n",
    "        \"balanced_accuracy\": avg_bal_acc,\n",
    "        \"val_accuracy\": val_accuracy\n",
    "    }"
   ]
  },
  {
   "cell_type": "code",
   "execution_count": 73,
   "id": "d910fa5b-eb84-4f45-95f6-50a8837e03a9",
   "metadata": {},
   "outputs": [],
   "source": [
    "def test_model(model):\n",
    "    import torch\n",
    "    import torch.nn as nn\n",
    "    from torch.utils.data import DataLoader, TensorDataset\n",
    "    from torch.nn.functional import sigmoid\n",
    "\n",
    "    device = \"cuda\" if torch.cuda.is_available() else \"cpu\"\n",
    "    model.to(device)\n",
    "    model.eval()  # Set model to evaluation mode\n",
    "    \n",
    "    criterion = nn.BCEWithLogitsLoss()\n",
    "\n",
    "    # Datasets\n",
    "    batch_size = 32\n",
    "    scaled_test_x_tensor = torch.tensor(scaled_test_x, dtype=torch.float32).to(device)\n",
    "    test_y_tensor = torch.tensor(test_y, dtype=torch.float32).to(device)\n",
    "\n",
    "    test_dataset = TensorDataset(scaled_test_x_tensor, test_y_tensor)\n",
    "    test_loader = DataLoader(test_dataset, batch_size=batch_size)\n",
    "\n",
    "    test_loss = 0.0\n",
    "    all_preds = []\n",
    "    all_targets = []\n",
    "\n",
    "    with torch.no_grad():\n",
    "        for x_test, y_test in test_loader:\n",
    "            x_test, y_test = x_test.to(device), y_test.to(device)\n",
    "            output = model(x_test)\n",
    "            test_loss += criterion(output, y_test).item()\n",
    "\n",
    "            probs = sigmoid(output)\n",
    "            preds = (probs > 0.5).int()\n",
    "            all_preds.append(preds)\n",
    "            all_targets.append(y_test.int())\n",
    "\n",
    "    # Calculate average test loss\n",
    "    avg_test_loss = test_loss / len(test_loader)\n",
    "\n",
    "    # Stack predictions for metric calculations\n",
    "    all_preds = torch.cat(all_preds, dim=0)\n",
    "    all_targets = torch.cat(all_targets, dim=0)\n",
    "\n",
    "    # Calculate metrics\n",
    "    TP = (all_preds & all_targets).sum(dim=0).float()\n",
    "    FP = ((all_preds == 1) & (all_targets == 0)).sum(dim=0).float()\n",
    "    FN = ((all_preds == 0) & (all_targets == 1)).sum(dim=0).float()\n",
    "    TN = ((all_preds == 0) & (all_targets == 0)).sum(dim=0).float()\n",
    "\n",
    "    precision = TP / (TP + FP + 1e-8)\n",
    "    recall = TP / (TP + FN + 1e-8)\n",
    "    f1 = (2 * precision * recall) / (precision + recall + 1e-8)\n",
    "    tnr = TN / (TN + FP + 1e-8)\n",
    "    balanced_acc = (recall + tnr) / 2\n",
    "\n",
    "    avg_precision = precision.mean().item()\n",
    "    avg_recall = recall.mean().item()\n",
    "    avg_f1 = f1.mean().item()\n",
    "    avg_bal_acc = balanced_acc.mean().item()\n",
    "    test_accuracy = (all_preds == all_targets).float().mean().item()\n",
    "\n",
    "    # Print results\n",
    "    print(\"\\nTest Results\")\n",
    "    print(f\"Test Loss:                 {avg_test_loss:.4f}\")\n",
    "    print(f\"Test Accuracy:             {test_accuracy:.4f}\")\n",
    "    print(f\"Precision:                 {avg_precision:.4f}\")\n",
    "    print(f\"Recall:                    {avg_recall:.4f}\")\n",
    "    print(f\"F1 Score:                  {avg_f1:.4f}\")\n",
    "    print(f\"Average Balanced Accuracy: {avg_bal_acc:.4f}\")\n",
    "\n",
    "    return {\n",
    "        \"test_loss\": avg_test_loss,\n",
    "        \"test_accuracy\": test_accuracy,\n",
    "        \"precision\": avg_precision,\n",
    "        \"recall\": avg_recall,\n",
    "        \"f1\": avg_f1,\n",
    "        \"balanced_accuracy\": avg_bal_acc\n",
    "    }\n"
   ]
  },
  {
   "cell_type": "code",
   "execution_count": 55,
   "id": "0363f957-03b7-4a7d-9608-fe336c3c7499",
   "metadata": {},
   "outputs": [
    {
     "name": "stderr",
     "output_type": "stream",
     "text": [
      "C:\\Users\\beiba\\AppData\\Local\\Temp\\ipykernel_16820\\1951892798.py:17: UserWarning: To copy construct from a tensor, it is recommended to use sourceTensor.clone().detach() or sourceTensor.clone().detach().requires_grad_(True), rather than torch.tensor(sourceTensor).\n",
      "  scaled_train_x_tensor = torch.tensor(scaled_train_x, dtype=torch.float32)\n",
      "C:\\Users\\beiba\\AppData\\Local\\Temp\\ipykernel_16820\\1951892798.py:18: UserWarning: To copy construct from a tensor, it is recommended to use sourceTensor.clone().detach() or sourceTensor.clone().detach().requires_grad_(True), rather than torch.tensor(sourceTensor).\n",
      "  train_y_tensor = torch.tensor(train_y, dtype=torch.float32)\n",
      "C:\\Users\\beiba\\AppData\\Local\\Temp\\ipykernel_16820\\1951892798.py:20: UserWarning: To copy construct from a tensor, it is recommended to use sourceTensor.clone().detach() or sourceTensor.clone().detach().requires_grad_(True), rather than torch.tensor(sourceTensor).\n",
      "  val_y_tensor = torch.tensor(val_y, dtype=torch.float32)\n"
     ]
    },
    {
     "name": "stdout",
     "output_type": "stream",
     "text": [
      "\n",
      "Epoch 1/6\n",
      "Train Loss:                  0.0755\n",
      "Train Accuracy:              0.9798\n",
      "Val Loss:                    0.0764\n",
      "Validation Accuracy:         0.9796\n",
      "Precision:                   0.3334\n",
      "Recall:                      0.0430\n",
      "F1 Score:                    0.0664\n",
      "Average Balanced Accuracy:   0.5211\n",
      "\n",
      "Epoch 2/6\n",
      "Train Loss:                  0.0704\n",
      "Train Accuracy:              0.9803\n",
      "Val Loss:                    0.0760\n",
      "Validation Accuracy:         0.9796\n",
      "Precision:                   0.4015\n",
      "Recall:                      0.0580\n",
      "F1 Score:                    0.0892\n",
      "Average Balanced Accuracy:   0.5284\n",
      "\n",
      "Epoch 3/6\n",
      "Train Loss:                  0.0686\n",
      "Train Accuracy:              0.9806\n",
      "Val Loss:                    0.0763\n",
      "Validation Accuracy:         0.9797\n",
      "Precision:                   0.4024\n",
      "Recall:                      0.0684\n",
      "F1 Score:                    0.1046\n",
      "Average Balanced Accuracy:   0.5335\n",
      "\n",
      "Epoch 4/6\n",
      "Train Loss:                  0.0675\n",
      "Train Accuracy:              0.9807\n",
      "Val Loss:                    0.0765\n",
      "Validation Accuracy:         0.9796\n",
      "Precision:                   0.4034\n",
      "Recall:                      0.0711\n",
      "F1 Score:                    0.1087\n",
      "Average Balanced Accuracy:   0.5348\n",
      "\n",
      "Epoch 5/6\n",
      "Train Loss:                  0.0668\n",
      "Train Accuracy:              0.9809\n",
      "Val Loss:                    0.0763\n",
      "Validation Accuracy:         0.9797\n",
      "Precision:                   0.4111\n",
      "Recall:                      0.0744\n",
      "F1 Score:                    0.1131\n",
      "Average Balanced Accuracy:   0.5365\n",
      "\n",
      "Epoch 6/6\n",
      "Train Loss:                  0.0662\n",
      "Train Accuracy:              0.9810\n",
      "Val Loss:                    0.0769\n",
      "Validation Accuracy:         0.9796\n",
      "Precision:                   0.4272\n",
      "Recall:                      0.0773\n",
      "F1 Score:                    0.1150\n",
      "Average Balanced Accuracy:   0.5378\n"
     ]
    }
   ],
   "source": [
    "tr_loss, val_loss, eval_dict =  train_model(lstm)"
   ]
  },
  {
   "cell_type": "code",
   "execution_count": 70,
   "id": "5d93cadb-0a4a-414a-8f26-71f4a5cda5fb",
   "metadata": {},
   "outputs": [
    {
     "name": "stderr",
     "output_type": "stream",
     "text": [
      "C:\\Users\\beiba\\AppData\\Local\\Temp\\ipykernel_16820\\1951892798.py:17: UserWarning: To copy construct from a tensor, it is recommended to use sourceTensor.clone().detach() or sourceTensor.clone().detach().requires_grad_(True), rather than torch.tensor(sourceTensor).\n",
      "  scaled_train_x_tensor = torch.tensor(scaled_train_x, dtype=torch.float32)\n",
      "C:\\Users\\beiba\\AppData\\Local\\Temp\\ipykernel_16820\\1951892798.py:18: UserWarning: To copy construct from a tensor, it is recommended to use sourceTensor.clone().detach() or sourceTensor.clone().detach().requires_grad_(True), rather than torch.tensor(sourceTensor).\n",
      "  train_y_tensor = torch.tensor(train_y, dtype=torch.float32)\n",
      "C:\\Users\\beiba\\AppData\\Local\\Temp\\ipykernel_16820\\1951892798.py:20: UserWarning: To copy construct from a tensor, it is recommended to use sourceTensor.clone().detach() or sourceTensor.clone().detach().requires_grad_(True), rather than torch.tensor(sourceTensor).\n",
      "  val_y_tensor = torch.tensor(val_y, dtype=torch.float32)\n"
     ]
    },
    {
     "name": "stdout",
     "output_type": "stream",
     "text": [
      "\n",
      "Epoch 1/6\n",
      "Train Loss:                  0.0711\n",
      "Train Accuracy:              0.9804\n",
      "Val Loss:                    0.0763\n",
      "Validation Accuracy:         0.9797\n",
      "Precision:                   0.4401\n",
      "Recall:                      0.0889\n",
      "F1 Score:                    0.1321\n",
      "Average Balanced Accuracy:   0.5436\n",
      "\n",
      "Epoch 2/6\n",
      "Train Loss:                  0.0622\n",
      "Train Accuracy:              0.9816\n",
      "Val Loss:                    0.0782\n",
      "Validation Accuracy:         0.9794\n",
      "Precision:                   0.4164\n",
      "Recall:                      0.1073\n",
      "F1 Score:                    0.1535\n",
      "Average Balanced Accuracy:   0.5524\n",
      "\n",
      "Epoch 3/6\n",
      "Train Loss:                  0.0594\n",
      "Train Accuracy:              0.9822\n",
      "Val Loss:                    0.0793\n",
      "Validation Accuracy:         0.9794\n",
      "Precision:                   0.4301\n",
      "Recall:                      0.1125\n",
      "F1 Score:                    0.1641\n",
      "Average Balanced Accuracy:   0.5549\n",
      "\n",
      "Epoch 4/6\n",
      "Train Loss:                  0.0578\n",
      "Train Accuracy:              0.9826\n",
      "Val Loss:                    0.0798\n",
      "Validation Accuracy:         0.9792\n",
      "Precision:                   0.3986\n",
      "Recall:                      0.1194\n",
      "F1 Score:                    0.1698\n",
      "Average Balanced Accuracy:   0.5583\n",
      "\n",
      "Epoch 5/6\n",
      "Train Loss:                  0.0568\n",
      "Train Accuracy:              0.9828\n",
      "Val Loss:                    0.0812\n",
      "Validation Accuracy:         0.9792\n",
      "Precision:                   0.4023\n",
      "Recall:                      0.1207\n",
      "F1 Score:                    0.1721\n",
      "Average Balanced Accuracy:   0.5589\n",
      "\n",
      "Epoch 6/6\n",
      "Train Loss:                  0.0560\n",
      "Train Accuracy:              0.9830\n",
      "Val Loss:                    0.0814\n",
      "Validation Accuracy:         0.9790\n",
      "Precision:                   0.3960\n",
      "Recall:                      0.1274\n",
      "F1 Score:                    0.1798\n",
      "Average Balanced Accuracy:   0.5621\n"
     ]
    }
   ],
   "source": [
    "\n",
    "tr_loss_bi, val_loss_bi, eval_dict_bi =  train_model(BiLSTM)"
   ]
  },
  {
   "cell_type": "code",
   "execution_count": 71,
   "id": "7f797e94-6445-4728-84b4-2509842b6ddd",
   "metadata": {},
   "outputs": [
    {
     "data": {
      "text/plain": [
       "<matplotlib.legend.Legend at 0x1ed969abd00>"
      ]
     },
     "execution_count": 71,
     "metadata": {},
     "output_type": "execute_result"
    },
    {
     "data": {
      "image/png": "[encoded data removed]",
      "text/plain": [
       "<Figure size 1400x700 with 2 Axes>"
      ]
     },
     "metadata": {},
     "output_type": "display_data"
    }
   ],
   "source": [
    "import matplotlib.pyplot as plt\n",
    "import seaborn as sns\n",
    "fig,ax = plt.subplots(1,2,figsize=(14,7))\n",
    "ax[0].plot(range(6),tr_loss,label=\"Training loss\"),\n",
    "ax[0].plot(range(6),val_loss,label = \"Validtion loss\")\n",
    "ax[0].set_title(\"LSTM Training loss vs Validation loss\")\n",
    "ax[0].set_xlabel(\"Epoches\")\n",
    "ax[0].set_ylabel(\"Erorr\")\n",
    "ax[1].plot(range(6),tr_loss_bi,label=\"Training loss\"),\n",
    "ax[1].plot(range(6),val_loss_bi,label = \"Validtion loss\")\n",
    "ax[1].set_title(\"BiLSTM Training loss vs Validation loss\")\n",
    "ax[1].set_xlabel(\"Epoches\")\n",
    "ax[1].set_ylabel(\"Erorr\")\n",
    "plt.legend()"
   ]
  },
  {
   "cell_type": "code",
   "execution_count": 74,
   "id": "0f747e4d-2586-4fd4-99e7-93fc27bfc7c6",
   "metadata": {},
   "outputs": [
    {
     "name": "stdout",
     "output_type": "stream",
     "text": [
      "\n",
      "Test Results\n",
      "Test Loss:                 0.0797\n",
      "Test Accuracy:             0.9792\n",
      "Precision:                 0.3636\n",
      "Recall:                    0.0721\n",
      "F1 Score:                  0.1038\n",
      "Average Balanced Accuracy: 0.5352\n"
     ]
    },
    {
     "data": {
      "text/plain": [
       "{'test_loss': 0.07970643912616339,\n",
       " 'test_accuracy': 0.9792429804801941,\n",
       " 'precision': 0.3636426329612732,\n",
       " 'recall': 0.07209545373916626,\n",
       " 'f1': 0.10382057726383209,\n",
       " 'balanced_accuracy': 0.5351833701133728}"
      ]
     },
     "execution_count": 74,
     "metadata": {},
     "output_type": "execute_result"
    }
   ],
   "source": [
    "test_model(lstm)"
   ]
  },
  {
   "cell_type": "code",
   "execution_count": 75,
   "id": "a9c6ab0f-2f5c-42f4-bf1f-398fd3189f37",
   "metadata": {},
   "outputs": [
    {
     "name": "stdout",
     "output_type": "stream",
     "text": [
      "\n",
      "Test Results\n",
      "Test Loss:                 0.0854\n",
      "Test Accuracy:             0.9787\n",
      "Precision:                 0.3311\n",
      "Recall:                    0.1067\n",
      "F1 Score:                  0.1518\n",
      "Average Balanced Accuracy: 0.5518\n"
     ]
    },
    {
     "data": {
      "text/plain": [
       "{'test_loss': 0.08538580974653322,\n",
       " 'test_accuracy': 0.9786700010299683,\n",
       " 'precision': 0.3311094641685486,\n",
       " 'recall': 0.106710284948349,\n",
       " 'f1': 0.15176373720169067,\n",
       " 'balanced_accuracy': 0.5517522692680359}"
      ]
     },
     "execution_count": 75,
     "metadata": {},
     "output_type": "execute_result"
    }
   ],
   "source": [
    "test_model(BiLSTM)"
   ]
  },
  {
   "cell_type": "code",
   "execution_count": 72,
   "id": "c85e910c-bce8-495c-b2bf-3620088d0b4c",
   "metadata": {},
   "outputs": [],
   "source": [
    "torch.save(lstm.state_dict(), 'lstm_weights.pth')\n",
    "torch.save(lstm, 'lstm_full_model.pth')"
   ]
  },
  {
   "cell_type": "code",
   "execution_count": null,
   "id": "45fdd2da-414a-4d2a-8f5d-cc38622f0db1",
   "metadata": {},
   "outputs": [],
   "source": []
  }
 ],
 "metadata": {
  "kernelspec": {
   "display_name": "Python 3 (ipykernel)",
   "language": "python",
   "name": "python3"
  },
  "language_info": {
   "codemirror_mode": {
    "name": "ipython",
    "version": 3
   },
   "file_extension": ".py",
   "mimetype": "text/x-python",
   "name": "python",
   "nbconvert_exporter": "python",
   "pygments_lexer": "ipython3",
   "version": "3.8.19"
  }
 },
 "nbformat": 4,
 "nbformat_minor": 5
}
